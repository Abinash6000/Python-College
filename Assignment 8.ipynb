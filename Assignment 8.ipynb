{
 "cells": [
  {
   "cell_type": "code",
   "execution_count": 1,
   "id": "b105cc03",
   "metadata": {},
   "outputs": [
    {
     "name": "stdout",
     "output_type": "stream",
     "text": [
      "The final vector is [22, 24, 28, 14, 18, 24, 30, 18, 26, 14, 20, 26, 12, 22, 22, 16, 16, 26, 20, 28]\n",
      "It took 5 iterations to generate the vector.\n"
     ]
    }
   ],
   "source": [
    "import random\n",
    "\n",
    "# Step 1: Generate a vector with 20 random integer elements between 10 and 30\n",
    "vector = [random.randint(10, 30) for _ in range(20)]\n",
    "\n",
    "# Step 2: Replace all the elements that are not even integers with random even integers between 10 and 30\n",
    "iterations = 0\n",
    "while any(x % 2 != 0 for x in vector):\n",
    "    for i in range(len(vector)):\n",
    "        if vector[i] % 2 != 0:\n",
    "            vector[i] = random.randint(10, 30)\n",
    "    iterations += 1\n",
    "\n",
    "# Step 3: Display the final vector and the number of iterations\n",
    "print(f\"The final vector is {vector}\")\n",
    "print(f\"It took {iterations} iterations to generate the vector.\")\n"
   ]
  },
  {
   "cell_type": "code",
   "execution_count": 2,
   "id": "9d4b5ce3",
   "metadata": {},
   "outputs": [
    {
     "name": "stdout",
     "output_type": "stream",
     "text": [
      "The safe primes between 1 and 10000 are:\n",
      "[5, 7, 11, 23, 47, 59, 83, 107, 167, 179, 227, 263, 347, 359, 383, 467, 479, 503, 563, 587, 719, 839, 863, 887, 983, 1019, 1187, 1283, 1307, 1319, 1367, 1439, 1487, 1523, 1619, 1823, 1907, 2027, 2039, 2063, 2099, 2207, 2447, 2459, 2579, 2819, 2879, 2903, 2963, 2999, 3023, 3119, 3167, 3203, 3467, 3623, 3779, 3803, 3863, 3947, 4007, 4079, 4127, 4139, 4259, 4283, 4547, 4679, 4703, 4787, 4799, 4919, 5087, 5099, 5387, 5399, 5483, 5507, 5639, 5807, 5879, 5927, 5939, 6047, 6599, 6659, 6719, 6779, 6827, 6899, 6983, 7079, 7187, 7247, 7523, 7559, 7607, 7643, 7703, 7727, 7823, 8039, 8147, 8423, 8543, 8699, 8747, 8783, 8819, 8963, 9467, 9587, 9743, 9839, 9887]\n"
     ]
    }
   ],
   "source": [
    "def is_prime(n):\n",
    "    \"\"\"Returns True if n is a prime number, False otherwise.\"\"\"\n",
    "    if n < 2:\n",
    "        return False\n",
    "    for i in range(2, int(n ** 0.5) + 1):\n",
    "        if n % i == 0:\n",
    "            return False\n",
    "    return True\n",
    "\n",
    "safe_primes = []\n",
    "for p in range(2, 5000):\n",
    "    if is_prime(p) and is_prime(2 * p + 1):\n",
    "        safe_primes.append(2 * p + 1)\n",
    "\n",
    "print(\"The safe primes between 1 and 10000 are:\")\n",
    "print(safe_primes)\n"
   ]
  },
  {
   "cell_type": "code",
   "execution_count": 3,
   "id": "718322b4",
   "metadata": {},
   "outputs": [
    {
     "name": "stdout",
     "output_type": "stream",
     "text": [
      "The Mersenne primes between 1 and 10000 are:\n",
      "[3, 7, 31, 127, 8191]\n"
     ]
    }
   ],
   "source": [
    "def is_prime(n):\n",
    "    \"\"\"Returns True if n is a prime number, False otherwise.\"\"\"\n",
    "    if n < 2:\n",
    "        return False\n",
    "    for i in range(2, int(n ** 0.5) + 1):\n",
    "        if n % i == 0:\n",
    "            return False\n",
    "    return True\n",
    "\n",
    "mersenne_primes = []\n",
    "for n in range(2, 14):\n",
    "    p = 2 ** n - 1\n",
    "    if is_prime(p):\n",
    "        mersenne_primes.append(p)\n",
    "\n",
    "print(\"The Mersenne primes between 1 and 10000 are:\")\n",
    "print(mersenne_primes)\n"
   ]
  },
  {
   "cell_type": "code",
   "execution_count": 7,
   "id": "9e2ae439",
   "metadata": {},
   "outputs": [
    {
     "name": "stdout",
     "output_type": "stream",
     "text": [
      "The first six perfect numbers are:\n",
      "[6, 28, 496, 8128]\n"
     ]
    }
   ],
   "source": [
    "perfect_numbers = []\n",
    "n = 2\n",
    "while len(perfect_numbers) < 4:\n",
    "    divisors_sum = sum(i for i in range(1, n) if n % i == 0)\n",
    "    if divisors_sum == n:\n",
    "        perfect_numbers.append(n)\n",
    "    n += 1\n",
    "\n",
    "print(\"The first four perfect numbers are:\")\n",
    "print(perfect_numbers)"
   ]
  },
  {
   "cell_type": "code",
   "execution_count": 17,
   "id": "42e70770",
   "metadata": {},
   "outputs": [
    {
     "name": "stdout",
     "output_type": "stream",
     "text": [
      "Keith numbers between 10 and 99:\n",
      "[14, 19, 28, 47, 61, 75]\n"
     ]
    }
   ],
   "source": [
    "def is_keith_number(num):\n",
    "    digits = [int(digit) for digit in str(num)]\n",
    "    sequence = digits.copy()\n",
    "    while sequence[-1] < num:\n",
    "        next_num = sum(digits)\n",
    "        sequence.append(next_num)\n",
    "        digits[0]=digits[1]\n",
    "        digits[1]=next_num\n",
    "    return num in sequence\n",
    "\n",
    "keith_numbers = [num for num in range(10, 100) if is_keith_number(num)]\n",
    "\n",
    "print(\"Keith numbers between 10 and 99:\")\n",
    "print(keith_numbers)\n"
   ]
  },
  {
   "cell_type": "code",
   "execution_count": 20,
   "id": "23b861db",
   "metadata": {},
   "outputs": [
    {
     "name": "stdout",
     "output_type": "stream",
     "text": [
      "n =  36\n",
      "Sum =  666\n"
     ]
    }
   ],
   "source": [
    "for n in range(1, 100):\n",
    "    sum = n*(n+1)//2\n",
    "    if 100 <= sum <= 999 and len(set(str(sum))) == 1:\n",
    "        print(\"n = \", n)\n",
    "        print(\"Sum = \", sum)\n",
    "        break\n"
   ]
  },
  {
   "cell_type": "code",
   "execution_count": null,
   "id": "34a1a737",
   "metadata": {},
   "outputs": [],
   "source": []
  }
 ],
 "metadata": {
  "kernelspec": {
   "display_name": "Python 3 (ipykernel)",
   "language": "python",
   "name": "python3"
  },
  "language_info": {
   "codemirror_mode": {
    "name": "ipython",
    "version": 3
   },
   "file_extension": ".py",
   "mimetype": "text/x-python",
   "name": "python",
   "nbconvert_exporter": "python",
   "pygments_lexer": "ipython3",
   "version": "3.10.9"
  }
 },
 "nbformat": 4,
 "nbformat_minor": 5
}

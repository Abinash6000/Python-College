{
 "cells": [
  {
   "cell_type": "code",
   "execution_count": 1,
   "id": "6f41e0fc",
   "metadata": {},
   "outputs": [
    {
     "name": "stdout",
     "output_type": "stream",
     "text": [
      "Enter cost, interior decoration, selling price: 1000000 10000 5000000\n",
      "The profit is: 395.05\n"
     ]
    }
   ],
   "source": [
    "cost, decoration, selling_price = map(int, input(\"Enter cost, interior decoration, selling price: \").split())\n",
    "\n",
    "profit = selling_price - (cost + decoration)\n",
    "profit_percentage = (profit / (cost + decoration)) * 100\n",
    "\n",
    "print(\"The profit is: {:.2f}\".format(profit_percentage))\n"
   ]
  },
  {
   "cell_type": "code",
   "execution_count": 2,
   "id": "42f15621",
   "metadata": {},
   "outputs": [
    {
     "name": "stdout",
     "output_type": "stream",
     "text": [
      "Enter the number of units of effort: 45678\n",
      "Hours: 25\n",
      "Minutes: 22\n",
      "Seconds: 36\n"
     ]
    }
   ],
   "source": [
    "effort = int(input(\"Enter the number of units of effort: \"))\n",
    "\n",
    "seconds = effort * 2  # Assuming 1 unit of effort = 2 seconds\n",
    "\n",
    "hours = seconds // 3600\n",
    "seconds %= 3600\n",
    "\n",
    "minutes = seconds // 60\n",
    "seconds %= 60\n",
    "\n",
    "print(\"Hours:\", hours)\n",
    "print(\"Minutes:\", minutes)\n",
    "print(\"Seconds:\", seconds)\n"
   ]
  },
  {
   "cell_type": "code",
   "execution_count": 3,
   "id": "b3568e77",
   "metadata": {},
   "outputs": [
    {
     "name": "stdout",
     "output_type": "stream",
     "text": [
      "Enter the distance travelled (in km): 56\n",
      "Enter the time taken (in hours): 4\n",
      "The speed of the car in Km/hr is: 14.0\n"
     ]
    }
   ],
   "source": [
    "distance = int(input(\"Enter the distance travelled (in km): \"))\n",
    "time = int(input(\"Enter the time taken (in hours): \"))\n",
    "\n",
    "speed = distance / time\n",
    "\n",
    "print(\"The speed of the car in Km/hr is:\", speed)\n"
   ]
  },
  {
   "cell_type": "code",
   "execution_count": 4,
   "id": "d44e960f",
   "metadata": {},
   "outputs": [
    {
     "name": "stdout",
     "output_type": "stream",
     "text": [
      "Enter width: 7\n",
      "Enter height: 8\n",
      "The third of the triangle is: 10.63014581273465\n",
      "Area of the right angled triangle is: 28.0\n"
     ]
    }
   ],
   "source": [
    "import math\n",
    "\n",
    "width = int(input(\"Enter width: \"))\n",
    "height = int(input(\"Enter height: \"))\n",
    "\n",
    "hypotenuse = math.sqrt(width ** 2 + height ** 2)\n",
    "area = (width * height) / 2\n",
    "\n",
    "print(\"The third of the triangle is:\", hypotenuse)\n",
    "print(\"Area of the right angled triangle is:\", area)\n"
   ]
  },
  {
   "cell_type": "code",
   "execution_count": null,
   "id": "d3007fcd",
   "metadata": {},
   "outputs": [],
   "source": []
  }
 ],
 "metadata": {
  "kernelspec": {
   "display_name": "Python 3 (ipykernel)",
   "language": "python",
   "name": "python3"
  },
  "language_info": {
   "codemirror_mode": {
    "name": "ipython",
    "version": 3
   },
   "file_extension": ".py",
   "mimetype": "text/x-python",
   "name": "python",
   "nbconvert_exporter": "python",
   "pygments_lexer": "ipython3",
   "version": "3.10.9"
  }
 },
 "nbformat": 4,
 "nbformat_minor": 5
}

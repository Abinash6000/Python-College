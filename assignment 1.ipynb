{
 "cells": [
  {
   "cell_type": "markdown",
   "id": "02e1e109",
   "metadata": {},
   "source": [
    "1."
   ]
  },
  {
   "cell_type": "code",
   "execution_count": 6,
   "id": "36cc1108",
   "metadata": {},
   "outputs": [
    {
     "name": "stdout",
     "output_type": "stream",
     "text": [
      "The NIFTY 50 is a benchmark Indian stock market index, \n",
      "that represents the weighted average of 50 of the largest Indian companies, \n",
      "listed on the National Stock Exchange.\n"
     ]
    }
   ],
   "source": [
    "print(\"The NIFTY 50 is a benchmark Indian stock market index, \\nthat represents the weighted average of 50 of the largest Indian companies, \\nlisted on the National Stock Exchange.\")"
   ]
  },
  {
   "cell_type": "markdown",
   "id": "eedd01fe",
   "metadata": {},
   "source": [
    "2."
   ]
  },
  {
   "cell_type": "code",
   "execution_count": 7,
   "id": "2dc128f3",
   "metadata": {},
   "outputs": [
    {
     "name": "stdout",
     "output_type": "stream",
     "text": [
      "Python version\n",
      "3.10.9 | packaged by Anaconda, Inc. | (main, Mar  1 2023, 18:18:15) [MSC v.1916 64 bit (AMD64)]\n"
     ]
    }
   ],
   "source": [
    "import sys\n",
    "\n",
    "print(\"Python version\")\n",
    "print(sys.version)"
   ]
  },
  {
   "cell_type": "markdown",
   "id": "9ec6ba7b",
   "metadata": {},
   "source": [
    "3."
   ]
  },
  {
   "cell_type": "code",
   "execution_count": 1,
   "id": "7461e938",
   "metadata": {},
   "outputs": [
    {
     "name": "stdout",
     "output_type": "stream",
     "text": [
      "2023-03-29 12:38:01.193869\n"
     ]
    }
   ],
   "source": [
    "from datetime import datetime\n",
    "now = datetime.now()\n",
    "print(now)"
   ]
  },
  {
   "cell_type": "markdown",
   "id": "19f52881",
   "metadata": {},
   "source": [
    "4."
   ]
  },
  {
   "cell_type": "code",
   "execution_count": 2,
   "id": "e401cf5a",
   "metadata": {},
   "outputs": [
    {
     "name": "stdout",
     "output_type": "stream",
     "text": [
      "First Name: Abinash\n",
      "Last Name: Dash\n",
      "Dash Abinash\n"
     ]
    }
   ],
   "source": [
    "fst_name = input(\"First Name: \")\n",
    "lst_name = input(\"Last Name: \")\n",
    "output = lst_name+\" \"+fst_name\n",
    "print(output)"
   ]
  },
  {
   "cell_type": "markdown",
   "id": "1fc0d5ec",
   "metadata": {},
   "source": [
    "5.\n"
   ]
  },
  {
   "cell_type": "code",
   "execution_count": 13,
   "id": "0538109c",
   "metadata": {},
   "outputs": [
    {
     "name": "stdout",
     "output_type": "stream",
     "text": [
      "Write File Name abcd.ipynb\n",
      "ipynb\n"
     ]
    }
   ],
   "source": [
    "file_name = input(\"Write File Name \")\n",
    "lst = file_name.split(\".\")\n",
    "print(lst[1])"
   ]
  },
  {
   "cell_type": "markdown",
   "id": "94909641",
   "metadata": {},
   "source": [
    "6."
   ]
  },
  {
   "cell_type": "code",
   "execution_count": 3,
   "id": "fac72240",
   "metadata": {},
   "outputs": [
    {
     "name": "stdout",
     "output_type": "stream",
     "text": [
      "Enter the first date (in YYYY-MM-DD format): 2023-03-30\n",
      "Enter the second date (in YYYY-MM-DD format): 2023-06-27\n",
      "89\n"
     ]
    }
   ],
   "source": [
    "date1_str = input(\"Enter the first date (in YYYY-MM-DD format): \")\n",
    "date2_str = input(\"Enter the second date (in YYYY-MM-DD format): \")\n",
    "\n",
    "# Convert the input strings to datetime objects\n",
    "date1 = datetime.strptime(date1_str, \"%Y-%m-%d\")\n",
    "date2 = datetime.strptime(date2_str, \"%Y-%m-%d\")\n",
    "\n",
    "# Calculate the number of days between the two dates\n",
    "delta = date2 - date1\n",
    "days = delta.days\n",
    "\n",
    "#print\n",
    "print(days)"
   ]
  },
  {
   "cell_type": "markdown",
   "id": "048abc06",
   "metadata": {},
   "source": [
    "7."
   ]
  },
  {
   "cell_type": "code",
   "execution_count": 8,
   "id": "09ef211f",
   "metadata": {},
   "outputs": [
    {
     "name": "stdout",
     "output_type": "stream",
     "text": [
      "volume:  904.7786842338603\n"
     ]
    }
   ],
   "source": [
    "import math\n",
    "radius = 6\n",
    "volume = 4/3*math.pi*radius**3\n",
    "print(\"volume: \",volume)"
   ]
  },
  {
   "cell_type": "markdown",
   "id": "f875987f",
   "metadata": {},
   "source": [
    "8."
   ]
  },
  {
   "cell_type": "code",
   "execution_count": 10,
   "id": "00da8f6c",
   "metadata": {},
   "outputs": [
    {
     "name": "stdout",
     "output_type": "stream",
     "text": [
      "Hello sir! I like the way you teach!!! \n"
     ]
    }
   ],
   "source": [
    "l = [\"Hello\", \"sir!\", \"I\", \"like\", \"the\", \"way\", \"you\", \"teach!!!\"]\n",
    "concatenate = \"\"\n",
    "for i in l:\n",
    "    concatenate+=i+\" \"\n",
    "    \n",
    "print(concatenate)"
   ]
  },
  {
   "cell_type": "markdown",
   "id": "602a7769",
   "metadata": {},
   "source": [
    "9."
   ]
  },
  {
   "cell_type": "code",
   "execution_count": 15,
   "id": "c2e9b7d6",
   "metadata": {},
   "outputs": [
    {
     "name": "stdout",
     "output_type": "stream",
     "text": [
      "base: 10\n",
      "height: 10\n",
      "Area:  50.0\n"
     ]
    }
   ],
   "source": [
    "base = int(input(\"base: \"))\n",
    "height = int(input(\"height: \"))\n",
    "area = (1/2)*base*height\n",
    "print(\"Area: \",area)"
   ]
  },
  {
   "cell_type": "markdown",
   "id": "7cdb1c69",
   "metadata": {},
   "source": [
    "10."
   ]
  },
  {
   "cell_type": "code",
   "execution_count": 18,
   "id": "5e8e9272",
   "metadata": {},
   "outputs": [
    {
     "name": "stdout",
     "output_type": "stream",
     "text": [
      "35\n"
     ]
    }
   ],
   "source": [
    "n1 = 7\n",
    "n2 = 5\n",
    "lcm = n1*n2 // math.gcd(n1,n2)\n",
    "print(lcm)"
   ]
  },
  {
   "cell_type": "markdown",
   "id": "8d2543ba",
   "metadata": {},
   "source": [
    "11."
   ]
  },
  {
   "cell_type": "code",
   "execution_count": 23,
   "id": "b84d7e5b",
   "metadata": {},
   "outputs": [
    {
     "name": "stdout",
     "output_type": "stream",
     "text": [
      "20\n",
      "Error: Both objects should be integers\n"
     ]
    }
   ],
   "source": [
    "a = 10\n",
    "b = 10\n",
    "\n",
    "def add_integers(a, b):\n",
    "    if isinstance(a, int) and isinstance(b, int):\n",
    "        return a + b\n",
    "    else:\n",
    "        return \"Error: Both objects should be integers\"\n",
    "    \n",
    "print(add_integers(a,b))\n",
    "print(add_integers(a,\"10\"))"
   ]
  },
  {
   "cell_type": "markdown",
   "id": "6bdeb0f1",
   "metadata": {},
   "source": [
    "12."
   ]
  },
  {
   "cell_type": "code",
   "execution_count": 30,
   "id": "97f41d33",
   "metadata": {},
   "outputs": [
    {
     "name": "stdout",
     "output_type": "stream",
     "text": [
      "Input pressure in in kilopascals> 100\n",
      "pounds per square inch: 14.503773779685869\n",
      "millimeter of mercury: 750.0616827041697\n",
      "Atmosphere pressure: 0.9869232667160128\n"
     ]
    }
   ],
   "source": [
    "kpa = float(input(\"Input pressure in in kilopascals> \"))\n",
    "psi = kpa / 6.89475729\n",
    "mmhg = kpa * 760 / 101.325\n",
    "atm = kpa / 101.325\n",
    "print(f\"pounds per square inch: {psi}\")\n",
    "print(f\"millimeter of mercury: {mmhg}\")\n",
    "print(f\"Atmosphere pressure: {atm}\")\n"
   ]
  },
  {
   "cell_type": "markdown",
   "id": "7256c370",
   "metadata": {},
   "source": [
    "13."
   ]
  },
  {
   "cell_type": "code",
   "execution_count": 34,
   "id": "f4e63a3f",
   "metadata": {},
   "outputs": [
    {
     "name": "stdout",
     "output_type": "stream",
     "text": [
      "Numeric\n",
      "Not numeric\n"
     ]
    }
   ],
   "source": [
    "str1 = \"123452500\" # True.\n",
    "def is_numeric(str):  \n",
    "    if str.isnumeric() == True:\n",
    "        print(\"Numeric\")\n",
    "    else:\n",
    "        print(\"Not numeric\")\n",
    "str2 = \"123-4525-00\" # False.\n",
    "\n",
    "is_numeric(str1)\n",
    "is_numeric(str2)"
   ]
  },
  {
   "cell_type": "markdown",
   "id": "bfe62cc5",
   "metadata": {},
   "source": [
    "14."
   ]
  },
  {
   "cell_type": "code",
   "execution_count": 37,
   "id": "25c9bc05",
   "metadata": {},
   "outputs": [
    {
     "name": "stdout",
     "output_type": "stream",
     "text": [
      "divisible by 15:  30\n",
      "divisible by 15:  45\n",
      "divisible by 15:  60\n"
     ]
    }
   ],
   "source": [
    "num = 15\n",
    "print(\"divisible by 15: \",15*2)\n",
    "print(\"divisible by 15: \",15*3)\n",
    "print(\"divisible by 15: \",15*4)"
   ]
  },
  {
   "cell_type": "markdown",
   "id": "2646c454",
   "metadata": {},
   "source": [
    "15."
   ]
  },
  {
   "cell_type": "code",
   "execution_count": 38,
   "id": "091fbfed",
   "metadata": {},
   "outputs": [
    {
     "name": "stdout",
     "output_type": "stream",
     "text": [
      "The hexadecimal form of 69 is 0x45\n"
     ]
    }
   ],
   "source": [
    "# hex() function is one of the built-in functions in Python3\n",
    "\n",
    "print(\"The hexadecimal form of 69 is \"\n",
    "\t+ hex(69))\n"
   ]
  },
  {
   "cell_type": "code",
   "execution_count": null,
   "id": "f0271bd5",
   "metadata": {},
   "outputs": [],
   "source": []
  }
 ],
 "metadata": {
  "kernelspec": {
   "display_name": "Python 3 (ipykernel)",
   "language": "python",
   "name": "python3"
  },
  "language_info": {
   "codemirror_mode": {
    "name": "ipython",
    "version": 3
   },
   "file_extension": ".py",
   "mimetype": "text/x-python",
   "name": "python",
   "nbconvert_exporter": "python",
   "pygments_lexer": "ipython3",
   "version": "3.10.9"
  }
 },
 "nbformat": 4,
 "nbformat_minor": 5
}

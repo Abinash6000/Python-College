{
 "cells": [
  {
   "cell_type": "code",
   "execution_count": 1,
   "id": "a88719d8",
   "metadata": {},
   "outputs": [
    {
     "name": "stdout",
     "output_type": "stream",
     "text": [
      "The vector is: [2, 8, -8, -16, -14, -6, 14, 6, -12, 6, 19, -13, 16, 19, -7, -7, 14, -18, 8, 8, -19, -2, 11, 8, -18, -11, 4, -3, 14, 5]\n",
      "The sum of all the elements that are divisible by 3 is: -45\n"
     ]
    }
   ],
   "source": [
    "import random\n",
    "\n",
    "vector = [random.randint(-20, 20) for _ in range(30)]\n",
    "\n",
    "sum_divisible_by_3 = sum([num for num in vector if num % 3 == 0])\n",
    "\n",
    "print(f\"The vector is: {vector}\")\n",
    "print(f\"The sum of all the elements that are divisible by 3 is: {sum_divisible_by_3}\")\n"
   ]
  },
  {
   "cell_type": "code",
   "execution_count": 2,
   "id": "10889328",
   "metadata": {},
   "outputs": [
    {
     "name": "stdout",
     "output_type": "stream",
     "text": [
      "Average temperature in NYC: 35°F\n",
      "Average temperature in Denver: 44°F\n",
      "Number of days above average temperature in NYC: 15\n",
      "Number of days above average temperature in Denver: 18\n",
      "Number of days with higher temperature in Denver than in NYC: 22\n"
     ]
    }
   ],
   "source": [
    "NYC = [33, 33, 18, 29, 40, 55, 19, 22, 32, 37, 58, 54, 51, 52, 45, 41, 45, 39, 36, 45, 33, 18, 19, 19, 28, 34, 44, 21, 23, 30, 39]\n",
    "DEN = [39, 48, 61, 39, 14, 37, 43, 38, 46, 39, 55, 46, 46, 39, 54, 45, 52, 52, 62, 45, 62, 40, 25, 57, 60, 57, 20, 32, 50, 48, 28]\n",
    "\n",
    "avg_NYC = round(sum(NYC)/len(NYC))\n",
    "avg_DEN = round(sum(DEN)/len(DEN))\n",
    "\n",
    "above_avg_NYC = len([temp for temp in NYC if temp > avg_NYC])\n",
    "above_avg_DEN = len([temp for temp in DEN if temp > avg_DEN])\n",
    "\n",
    "higher_DEN_than_NYC = len([i for i in range(len(NYC)) if DEN[i] > NYC[i]])\n",
    "\n",
    "print(f\"Average temperature in NYC: {avg_NYC}°F\")\n",
    "print(f\"Average temperature in Denver: {avg_DEN}°F\")\n",
    "print(f\"Number of days above average temperature in NYC: {above_avg_NYC}\")\n",
    "print(f\"Number of days above average temperature in Denver: {above_avg_DEN}\")\n",
    "print(f\"Number of days with higher temperature in Denver than in NYC: {higher_DEN_than_NYC}\")\n"
   ]
  },
  {
   "cell_type": "code",
   "execution_count": 3,
   "id": "3a1ebe7e",
   "metadata": {},
   "outputs": [
    {
     "name": "stdout",
     "output_type": "stream",
     "text": [
      "0\n",
      "1\n",
      "1\n",
      "2\n",
      "4\n",
      "7\n",
      "13\n",
      "24\n",
      "44\n",
      "81\n",
      "149\n",
      "274\n",
      "504\n",
      "927\n",
      "1705\n",
      "3136\n",
      "5768\n",
      "10609\n",
      "19513\n",
      "35890\n",
      "66012\n",
      "121415\n",
      "223317\n",
      "410744\n",
      "755476\n"
     ]
    }
   ],
   "source": [
    "\n",
    "a, b, c = 0, 1, 1\n",
    "\n",
    "print(a)\n",
    "print(b)\n",
    "print(c)\n",
    "\n",
    "for i in range(22):\n",
    "    d = a + b + c\n",
    "    print(d)\n",
    "    a, b, c = b, c, d\n"
   ]
  },
  {
   "cell_type": "code",
   "execution_count": 1,
   "id": "d801ec44",
   "metadata": {},
   "outputs": [
    {
     "name": "stdout",
     "output_type": "stream",
     "text": [
      "Final vector: [28, 16, 30, 14, 28, 28, 28, 16, 28, 22, 30, 24, 26, 14, 18, 28, 16, 24, 14, 16]\n",
      "Number of iterations: 4\n"
     ]
    }
   ],
   "source": [
    "import random\n",
    "\n",
    "vec = [random.randint(10, 30) for _ in range(20)]\n",
    "\n",
    "num_iterations = 0\n",
    "\n",
    "while any(x % 2 != 0 for x in vec):\n",
    "    for i in range(len(vec)):\n",
    "        if vec[i] % 2 != 0:\n",
    "            vec[i] = random.randint(10, 30)\n",
    "    num_iterations += 1\n",
    "\n",
    "print(\"Final vector:\", vec)\n",
    "print(\"Number of iterations:\", num_iterations)\n"
   ]
  },
  {
   "cell_type": "code",
   "execution_count": 5,
   "id": "1bbb1123",
   "metadata": {},
   "outputs": [
    {
     "name": "stdout",
     "output_type": "stream",
     "text": [
      "3   4   5  \n",
      "5   12  13 \n",
      "6   8   10 \n",
      "7   24  25 \n",
      "8   15  17 \n",
      "9   12  15 \n",
      "9   40  41 \n",
      "10  24  26 \n",
      "12  16  20 \n",
      "12  35  37 \n",
      "14  48  50 \n",
      "15  20  25 \n",
      "15  36  39 \n",
      "16  30  34 \n",
      "18  24  30 \n",
      "20  21  29 \n",
      "21  28  35 \n",
      "24  32  40 \n",
      "27  36  45 \n",
      "30  40  50 \n"
     ]
    }
   ],
   "source": [
    "\n",
    "for a in range(1, 51):\n",
    "    for b in range(a, 51):\n",
    "        for c in range(b, 51):\n",
    "            if a**2 + b**2 == c**2:\n",
    "                print(\"{:<3d} {:<3d} {:<3d}\".format(a, b, c))\n"
   ]
  },
  {
   "cell_type": "code",
   "execution_count": null,
   "id": "e1c5c4be",
   "metadata": {},
   "outputs": [],
   "source": []
  }
 ],
 "metadata": {
  "kernelspec": {
   "display_name": "Python 3 (ipykernel)",
   "language": "python",
   "name": "python3"
  },
  "language_info": {
   "codemirror_mode": {
    "name": "ipython",
    "version": 3
   },
   "file_extension": ".py",
   "mimetype": "text/x-python",
   "name": "python",
   "nbconvert_exporter": "python",
   "pygments_lexer": "ipython3",
   "version": "3.10.9"
  }
 },
 "nbformat": 4,
 "nbformat_minor": 5
}

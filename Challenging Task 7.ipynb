{
 "cells": [
  {
   "cell_type": "markdown",
   "id": "48747c0d",
   "metadata": {},
   "source": [
    "Name: Abinash Dash\n",
    "\n",
    "Reg no: 22BAI10097\n"
   ]
  },
  {
   "cell_type": "markdown",
   "id": "4535eeab",
   "metadata": {},
   "source": [
    "2."
   ]
  },
  {
   "cell_type": "code",
   "execution_count": 1,
   "id": "7c453e37",
   "metadata": {},
   "outputs": [
    {
     "name": "stdout",
     "output_type": "stream",
     "text": [
      "Name\t|\tSalary\n",
      "--------|--------\n",
      "Ravi\t|\t23000\n",
      "Vijay\t|\t26000\n",
      "Messi\t|\t30000\n"
     ]
    }
   ],
   "source": [
    "\n",
    "employee_data = {'Sunny': 25000, 'Ravi': 23000, 'Vijay': 26000, 'Messi': 30000}\n",
    "\n",
    "employee_data.pop('Sunny')\n",
    "\n",
    "print(\"Name\\t|\\tSalary\")\n",
    "print(\"--------|--------\")\n",
    "for name, salary in employee_data.items():\n",
    "    print(name + \"\\t|\\t\" + str(salary))\n"
   ]
  },
  {
   "cell_type": "markdown",
   "id": "2365524c",
   "metadata": {},
   "source": [
    "3."
   ]
  },
  {
   "cell_type": "code",
   "execution_count": 2,
   "id": "7d82e4ee",
   "metadata": {},
   "outputs": [
    {
     "name": "stdout",
     "output_type": "stream",
     "text": [
      "Enter the key to check: mango\n",
      "No\n"
     ]
    }
   ],
   "source": [
    "\n",
    "my_dict = {'apple': 2, 'banana': 4, 'cherry': 6, 'date': 8}\n",
    "\n",
    "key_to_check = input(\"Enter the key to check: \")\n",
    "\n",
    "if key_to_check in my_dict:\n",
    "    print(\"Yes\")\n",
    "else:\n",
    "    print(\"No\")\n"
   ]
  },
  {
   "cell_type": "markdown",
   "id": "0bb85166",
   "metadata": {},
   "source": [
    "4."
   ]
  },
  {
   "cell_type": "code",
   "execution_count": 3,
   "id": "c957ebd4",
   "metadata": {},
   "outputs": [
    {
     "name": "stdout",
     "output_type": "stream",
     "text": [
      "Enter the marks of 7 students separated by space: 90 98 99 100 40 50 60 70\n",
      "Mean is: 75.875\n",
      "Standard Deviation is: 24.050170774564457\n"
     ]
    }
   ],
   "source": [
    "import statistics\n",
    "\n",
    "marks = input(\"Enter the marks of 7 students separated by space: \")\n",
    "\n",
    "marks_list = list(map(int, marks.split()))\n",
    "\n",
    "mean = statistics.mean(marks_list)\n",
    "\n",
    "stdev = statistics.stdev(marks_list)\n",
    "\n",
    "print(\"Mean is:\", mean)\n",
    "print(\"Standard Deviation is:\", stdev)\n"
   ]
  },
  {
   "cell_type": "markdown",
   "id": "c424766c",
   "metadata": {},
   "source": [
    "5."
   ]
  },
  {
   "cell_type": "code",
   "execution_count": 6,
   "id": "eecd03c4",
   "metadata": {},
   "outputs": [
    {
     "name": "stdout",
     "output_type": "stream",
     "text": [
      "Enter the number of words: 3\n",
      "Abinash\n",
      "Sambitee\n",
      "Saswati\n",
      "The word with the longest length is: Sambitee\n"
     ]
    }
   ],
   "source": [
    "\n",
    "n = int(input(\"Enter the number of words: \"))\n",
    "\n",
    "words = []\n",
    "for i in range(n):\n",
    "    word = input()\n",
    "    words.append(word)\n",
    "\n",
    "longest_word = max(words, key=len)\n",
    "\n",
    "print(\"The word with the longest length is:\", longest_word)\n"
   ]
  },
  {
   "cell_type": "markdown",
   "id": "e191291b",
   "metadata": {},
   "source": [
    "6."
   ]
  },
  {
   "cell_type": "code",
   "execution_count": 7,
   "id": "4b00d3aa",
   "metadata": {},
   "outputs": [
    {
     "name": "stdout",
     "output_type": "stream",
     "text": [
      "Enter the key to remove: apple\n",
      "removed\n",
      "Updated dictionary: {'banana': 4, 'cherry': 6, 'date': 8}\n"
     ]
    }
   ],
   "source": [
    "\n",
    "my_dict = {'apple': 2, 'banana': 4, 'cherry': 6, 'date': 8}\n",
    "\n",
    "key_to_remove = input(\"Enter the key to remove: \")\n",
    "\n",
    "if key_to_remove in my_dict:\n",
    "    del my_dict[key_to_remove]\n",
    "    print(\"removed\")\n",
    "else:\n",
    "    print(\"doesn't exist\")\n",
    "    \n",
    "print(\"Updated dictionary:\", my_dict)\n"
   ]
  },
  {
   "cell_type": "code",
   "execution_count": null,
   "id": "dab5ccdb",
   "metadata": {},
   "outputs": [],
   "source": []
  }
 ],
 "metadata": {
  "kernelspec": {
   "display_name": "Python 3 (ipykernel)",
   "language": "python",
   "name": "python3"
  },
  "language_info": {
   "codemirror_mode": {
    "name": "ipython",
    "version": 3
   },
   "file_extension": ".py",
   "mimetype": "text/x-python",
   "name": "python",
   "nbconvert_exporter": "python",
   "pygments_lexer": "ipython3",
   "version": "3.10.9"
  }
 },
 "nbformat": 4,
 "nbformat_minor": 5
}

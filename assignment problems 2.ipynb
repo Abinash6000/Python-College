{
 "cells": [
  {
   "cell_type": "code",
   "execution_count": 4,
   "id": "cf914566",
   "metadata": {},
   "outputs": [
    {
     "name": "stdout",
     "output_type": "stream",
     "text": [
      "weight in pounds: 154.324\n",
      "height in inches: 69.2913\n",
      "BMI:  22.6\n"
     ]
    }
   ],
   "source": [
    "weight = float(input(\"weight in pounds: \"))\n",
    "height = float(input(\"height in inches: \"))\n",
    "\n",
    "bmi = (weight / (height ** 2)) * 703\n",
    "bmi_rounded = round(bmi, 1)\n",
    "\n",
    "print(\"BMI: \", bmi_rounded)\n"
   ]
  },
  {
   "cell_type": "code",
   "execution_count": 5,
   "id": "a5da4a38",
   "metadata": {},
   "outputs": [
    {
     "name": "stdout",
     "output_type": "stream",
     "text": [
      "air pressure in millibars: 33.8639\n",
      "altitude is: 69228 ft.\n"
     ]
    }
   ],
   "source": [
    "pressure = float(input(\"air pressure in millibars: \"))\n",
    "\n",
    "altitude = (1 - (pressure/1013.25) ** 0.190289) * 145366.45\n",
    "altitude_rounded = round(altitude)\n",
    "\n",
    "print(\"altitude is:\", altitude_rounded, \"ft.\")\n"
   ]
  },
  {
   "cell_type": "code",
   "execution_count": 7,
   "id": "20c0a22f",
   "metadata": {},
   "outputs": [
    {
     "name": "stdout",
     "output_type": "stream",
     "text": [
      "half-life of the material in years: 400\n",
      "current amount of the material in pounds: 100\n",
      "number of years from now to calculate the amount: 100\n",
      "amount of the material after 100.0 years is 53.94 kg.\n"
     ]
    }
   ],
   "source": [
    "import math\n",
    "\n",
    "half_life = float(input(\"half-life of the material in years: \"))\n",
    "current_amount = float(input(\"current amount of the material in pounds: \"))\n",
    "years_from_now = float(input(\"number of years from now to calculate the amount: \"))\n",
    "\n",
    "k = math.log(0.5) / half_life\n",
    "amount = current_amount * math.exp(-k * years_from_now)\n",
    "\n",
    "amount_in_kg = amount * 0.453592  # convert pounds to kilograms\n",
    "amount_in_kg_rounded = round(amount_in_kg, 2)\n",
    "\n",
    "print(\"amount of the material after\", years_from_now, \"years is\", amount_in_kg_rounded, \"kg.\")\n"
   ]
  },
  {
   "cell_type": "code",
   "execution_count": 9,
   "id": "c7e57b72",
   "metadata": {},
   "outputs": [
    {
     "name": "stdout",
     "output_type": "stream",
     "text": [
      "coordinates of point 1 separated by a space: 11.5 5\n",
      "coordinates of point 2 separated by a space: 3.2 8.6\n",
      "coordinates of point 3 separated by a space: -4.5 -6.8\n",
      "center of the circle is: (3.8, -1.3)\n",
      "radius of the circle is: 10.0\n"
     ]
    }
   ],
   "source": [
    "import math\n",
    "\n",
    "# Ask the user to enter the coordinates of the three points\n",
    "x1, y1 = map(float, input(\"coordinates of point 1 separated by a space: \").split())\n",
    "x2, y2 = map(float, input(\"coordinates of point 2 separated by a space: \").split())\n",
    "x3, y3 = map(float, input(\"coordinates of point 3 separated by a space: \").split())\n",
    "\n",
    "# Calculate the coefficients of the system of linear equations\n",
    "A = 2 * (x2 - x1)\n",
    "B = 2 * (y2 - y1)\n",
    "C = x2**2 + y2**2 - x1**2 - y1**2\n",
    "\n",
    "D = 2 * (x3 - x2)\n",
    "E = 2 * (y3 - y2)\n",
    "F = x3**2 + y3**2 - x2**2 - y2**2\n",
    "\n",
    "# Calculate the coordinates of the center\n",
    "xo = (C*E - F*B) / (E*A - B*D)\n",
    "yo = (C*D - A*F) / (B*D - A*E)\n",
    "\n",
    "# Calculate the radius\n",
    "R = math.sqrt((xo - x1)**2 + (yo - y1)**2)\n",
    "\n",
    "# Display the results rounded to the nearest tenth\n",
    "print(\"center of the circle is: ({:.1f}, {:.1f})\".format(xo, yo))\n",
    "print(\"radius of the circle is: {:.1f}\".format(R))"
   ]
  },
  {
   "cell_type": "code",
   "execution_count": 10,
   "id": "eea94f97",
   "metadata": {},
   "outputs": [
    {
     "name": "stdout",
     "output_type": "stream",
     "text": [
      "constants are: a = -5.53, b = 29.45, c = -34.13, d = 10.69\n"
     ]
    }
   ],
   "source": [
    "import numpy as np\n",
    "\n",
    "# Define the coefficients matrix\n",
    "A = np.array([[-1.2**3, -1.2**2, -1.2, 1],\n",
    "              [0.2**3, 0.2**2, 0.2, 1],\n",
    "              [2**3, 2**2, 2, 1],\n",
    "              [3.5**3, 3.5**2, 3.5, 1]])\n",
    "\n",
    "# Define the constants vector\n",
    "B = np.array([18.8, 5, 16, 15])\n",
    "\n",
    "# Solve the system of equations\n",
    "x = np.linalg.solve(A, B)\n",
    "\n",
    "# Extract the constants a, b, c, and d\n",
    "a, b, c, d = x\n",
    "\n",
    "# Print the results\n",
    "print(f\"constants are: a = {a:.2f}, b = {b:.2f}, c = {c:.2f}, d = {d:.2f}\")\n"
   ]
  },
  {
   "cell_type": "code",
   "execution_count": null,
   "id": "dfa62b25",
   "metadata": {},
   "outputs": [],
   "source": []
  }
 ],
 "metadata": {
  "kernelspec": {
   "display_name": "Python 3 (ipykernel)",
   "language": "python",
   "name": "python3"
  },
  "language_info": {
   "codemirror_mode": {
    "name": "ipython",
    "version": 3
   },
   "file_extension": ".py",
   "mimetype": "text/x-python",
   "name": "python",
   "nbconvert_exporter": "python",
   "pygments_lexer": "ipython3",
   "version": "3.10.9"
  }
 },
 "nbformat": 4,
 "nbformat_minor": 5
}

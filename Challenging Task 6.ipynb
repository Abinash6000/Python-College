{
 "cells": [
  {
   "cell_type": "markdown",
   "id": "44eb4f92",
   "metadata": {},
   "source": [
    "The logic of the program is as follows:\n",
    "\n",
    "Assign the value 2 to the variable a.\n",
    "\n",
    "Assign the value 12 to the variable b.\n",
    "\n",
    "Assign the value 1 to the variable c.\n",
    "\n",
    "Evaluate the expression a<b>c-1 using the following order of operations:\n",
    "    \n",
    "Subtract 1 from c, resulting in 0.\n",
    "    \n",
    "Compare b and 0 using the greater than operator (>). Since b is greater than 0, the result of the comparison is True.\n",
    "    \n",
    "Compare a and the result of the previous comparison (True) using the less than operator (<). Since a is less than True, the result of the comparison is True.\n",
    "                                                                                             \n",
    "Assign the value of the expression to the variable d.\n",
    "                                                                                             \n",
    "Print the value of d, which is True.\n",
    "                                                                                             \n",
    "In other words, the program first sets the values of a, b, and c. It then evaluates the expression a<b>c-1 by subtracting 1 from c, which results in 0, and comparing b and 0 to get True, then comparing a and True to get True again. Finally, it assigns the result of the expression, True, to the variable d and prints its value.\n",
    "\n",
    "    \n",
    "Therefore, the output of the program is True."
   ]
  },
  {
   "cell_type": "code",
   "execution_count": null,
   "id": "550f7ae0",
   "metadata": {},
   "outputs": [],
   "source": []
  }
 ],
 "metadata": {
  "kernelspec": {
   "display_name": "Python 3 (ipykernel)",
   "language": "python",
   "name": "python3"
  },
  "language_info": {
   "codemirror_mode": {
    "name": "ipython",
    "version": 3
   },
   "file_extension": ".py",
   "mimetype": "text/x-python",
   "name": "python",
   "nbconvert_exporter": "python",
   "pygments_lexer": "ipython3",
   "version": "3.10.9"
  }
 },
 "nbformat": 4,
 "nbformat_minor": 5
}

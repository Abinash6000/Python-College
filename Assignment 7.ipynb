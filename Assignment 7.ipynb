{
 "cells": [
  {
   "cell_type": "code",
   "execution_count": 2,
   "id": "78d42a42",
   "metadata": {},
   "outputs": [],
   "source": [
    "def remove_keys(mydict, keylist):\n",
    "    for key in keylist:\n",
    "        if key in mydict:\n",
    "            del mydict[key]\n",
    "    return mydict\n"
   ]
  },
  {
   "cell_type": "code",
   "execution_count": 9,
   "id": "12a65356",
   "metadata": {},
   "outputs": [
    {
     "name": "stdout",
     "output_type": "stream",
     "text": [
      "{'b': 'b'}\n"
     ]
    }
   ],
   "source": [
    "mydict = {\"a\":\"a\", \"b\":\"b\", \"c\":\"c\"}\n",
    "keylist = [\"a\",\"c\"]\n",
    "print(remove_keys(mydict, keylist))"
   ]
  },
  {
   "cell_type": "code",
   "execution_count": 3,
   "id": "719d2e75",
   "metadata": {},
   "outputs": [],
   "source": [
    "def accept_login(users, username, password):\n",
    "    if username in users and users[username] == password:\n",
    "        return True\n",
    "    else:\n",
    "        return False\n"
   ]
  },
  {
   "cell_type": "code",
   "execution_count": 10,
   "id": "63936bb8",
   "metadata": {},
   "outputs": [
    {
     "data": {
      "text/plain": [
       "False"
      ]
     },
     "execution_count": 10,
     "metadata": {},
     "output_type": "execute_result"
    }
   ],
   "source": [
    "users = {'abinash':'a','sambitee':'s','aseet':'as','saswati':'sa'}\n",
    "username = 'abinash'\n",
    "password = 'abcd'\n",
    "accept_login(users, username, password)"
   ]
  },
  {
   "cell_type": "code",
   "execution_count": 4,
   "id": "5eca7104",
   "metadata": {},
   "outputs": [],
   "source": [
    "def print_triangle(height):\n",
    "    i = 1\n",
    "    while i <= height:\n",
    "        print(\"*\" * i)\n",
    "        i += 1\n"
   ]
  },
  {
   "cell_type": "code",
   "execution_count": 11,
   "id": "47cb3c37",
   "metadata": {},
   "outputs": [
    {
     "name": "stdout",
     "output_type": "stream",
     "text": [
      "*\n",
      "**\n",
      "***\n",
      "****\n",
      "*****\n",
      "******\n",
      "*******\n",
      "********\n"
     ]
    }
   ],
   "source": [
    "print_triangle(8)"
   ]
  },
  {
   "cell_type": "code",
   "execution_count": 13,
   "id": "3e3106fd",
   "metadata": {},
   "outputs": [],
   "source": [
    "def invert_dict(mydict):\n",
    "    inverted = {}\n",
    "    for key in mydict:\n",
    "        value = mydict[key]\n",
    "        inverted[value] = key\n",
    "            \n",
    "    return inverted\n"
   ]
  },
  {
   "cell_type": "code",
   "execution_count": 14,
   "id": "71bf0684",
   "metadata": {},
   "outputs": [
    {
     "name": "stdout",
     "output_type": "stream",
     "text": [
      "{11: 1, 22: 2, 33: 3, 44: 4}\n"
     ]
    }
   ],
   "source": [
    "dict_ = {1:11, 2:22, 3:33, 4:44}\n",
    "print(invert_dict(dict_))"
   ]
  },
  {
   "cell_type": "code",
   "execution_count": 6,
   "id": "9f592978",
   "metadata": {},
   "outputs": [],
   "source": [
    "def word_frequencies(mylist):\n",
    "    freq_dict = {}\n",
    "    for word in mylist:\n",
    "        if word not in freq_dict:\n",
    "            freq_dict[word] = 1\n",
    "        else:\n",
    "            freq_dict[word] += 1\n",
    "    return freq_dict\n"
   ]
  },
  {
   "cell_type": "code",
   "execution_count": 15,
   "id": "4478e563",
   "metadata": {},
   "outputs": [
    {
     "name": "stdout",
     "output_type": "stream",
     "text": [
      "{'apple': 10, 'banana': 20}\n"
     ]
    }
   ],
   "source": [
    "mylist1 = ['apple']\n",
    "mylist2 = ['banana']\n",
    "mylist = mylist1*10+mylist2*20\n",
    "print(word_frequencies(mylist))"
   ]
  },
  {
   "cell_type": "code",
   "execution_count": 7,
   "id": "73495985",
   "metadata": {},
   "outputs": [
    {
     "name": "stdout",
     "output_type": "stream",
     "text": [
      "There are more white balls\n",
      "There are more white balls\n",
      "There are fewer white balls\n"
     ]
    }
   ],
   "source": [
    "# Define the pairs of values\n",
    "values = [(1002, 3222), (789, 3222), (300, 233)]\n",
    "\n",
    "# Loop over the pairs of values\n",
    "for red, white in values:\n",
    "    # Compare the number of red and white balls\n",
    "    if white < red:\n",
    "        print(\"There are fewer white balls\")\n",
    "    else:\n",
    "        print(\"There are more white balls\")\n"
   ]
  },
  {
   "cell_type": "code",
   "execution_count": null,
   "id": "5ac9be75",
   "metadata": {},
   "outputs": [],
   "source": []
  }
 ],
 "metadata": {
  "kernelspec": {
   "display_name": "Python 3 (ipykernel)",
   "language": "python",
   "name": "python3"
  },
  "language_info": {
   "codemirror_mode": {
    "name": "ipython",
    "version": 3
   },
   "file_extension": ".py",
   "mimetype": "text/x-python",
   "name": "python",
   "nbconvert_exporter": "python",
   "pygments_lexer": "ipython3",
   "version": "3.10.9"
  }
 },
 "nbformat": 4,
 "nbformat_minor": 5
}

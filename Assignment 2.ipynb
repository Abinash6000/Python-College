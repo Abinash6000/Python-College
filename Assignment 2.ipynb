{
 "cells": [
  {
   "cell_type": "code",
   "execution_count": 1,
   "id": "efa41b33",
   "metadata": {},
   "outputs": [],
   "source": [
    "a = 1000\n",
    "b = 23"
   ]
  },
  {
   "cell_type": "code",
   "execution_count": 3,
   "id": "a1baf88c",
   "metadata": {},
   "outputs": [
    {
     "name": "stdout",
     "output_type": "stream",
     "text": [
      "Sum:  1023\n",
      "Subtraction:  977\n",
      "Multiplication:  23000\n",
      "Division:  43.47826086956522\n",
      "Floor Division:  43\n",
      "Modulo:  11\n",
      "Power: 1000000000000000000000000000000000000000000000000000000000000000000000\n",
      "1001\n",
      "998\n",
      "3992\n",
      "1330.6666666666667\n",
      "0.6666666666667425\n"
     ]
    }
   ],
   "source": [
    "\n",
    "print ('Sum: ', a + b)\n",
    "print ('Subtraction: ', a - b)\n",
    "print ('Multiplication: ', a*b)\n",
    "print (\"Division: \", a / b)\n",
    "print ('Floor Division: ', a // b)\n",
    "print ('Modulo: ', a % b)\n",
    "print ('Power:', a**b)\n",
    "a += 1 # a = a + 1\n",
    "print(a)\n",
    "a -= 3 # a = a - 3\n",
    "print(a)\n",
    "a *= 4 # a = a * 4\n",
    "print(a)\n",
    "a /= 3 # a = a/3\n",
    "print(a)\n",
    "a %= 10 # a = a % 10\n",
    "print(a)\n",
    "a **= 10 # a = a**10\n"
   ]
  },
  {
   "cell_type": "code",
   "execution_count": 4,
   "id": "84f5eb78",
   "metadata": {},
   "outputs": [
    {
     "name": "stdout",
     "output_type": "stream",
     "text": [
      "False\n",
      "True\n",
      "True\n",
      "False\n",
      "False\n",
      "True\n",
      "23\n",
      "0.01734152991585233\n",
      "False\n"
     ]
    }
   ],
   "source": [
    "print (a > b)\n",
    "print (a<b)\n",
    "print (a!=b)\n",
    "print (a == b)\n",
    "print (a >= b)\n",
    "print (a <= b)\n",
    "print (a and b)\n",
    "print (a or b)\n",
    "print (not a)"
   ]
  },
  {
   "cell_type": "code",
   "execution_count": 5,
   "id": "d8a6eec2",
   "metadata": {},
   "outputs": [
    {
     "name": "stdout",
     "output_type": "stream",
     "text": [
      "610\n"
     ]
    }
   ],
   "source": [
    "expr = 10+20*30\n",
    "print(expr)"
   ]
  },
  {
   "cell_type": "code",
   "execution_count": null,
   "id": "03e42444",
   "metadata": {},
   "outputs": [],
   "source": []
  }
 ],
 "metadata": {
  "kernelspec": {
   "display_name": "Python 3 (ipykernel)",
   "language": "python",
   "name": "python3"
  },
  "language_info": {
   "codemirror_mode": {
    "name": "ipython",
    "version": 3
   },
   "file_extension": ".py",
   "mimetype": "text/x-python",
   "name": "python",
   "nbconvert_exporter": "python",
   "pygments_lexer": "ipython3",
   "version": "3.10.9"
  }
 },
 "nbformat": 4,
 "nbformat_minor": 5
}

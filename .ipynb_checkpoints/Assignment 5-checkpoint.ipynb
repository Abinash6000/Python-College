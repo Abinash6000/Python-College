{
 "cells": [
  {
   "cell_type": "code",
   "execution_count": 1,
   "id": "68348633",
   "metadata": {},
   "outputs": [
    {
     "name": "stdout",
     "output_type": "stream",
     "text": [
      "Average: 71%\n",
      "Standard deviation: 14\n",
      "72% Letter grade C\n",
      "81% Letter grade F\n",
      "44% Letter grade F\n",
      "68% Letter grade C\n",
      "90% Letter grade F\n",
      "53% Letter grade D\n",
      "80% Letter grade F\n",
      "75% Letter grade C\n",
      "74% Letter grade C\n",
      "65% Letter grade C\n",
      "50% Letter grade F\n",
      "92% Letter grade F\n",
      "85% Letter grade F\n",
      "69% Letter grade C\n",
      "41% Letter grade F\n",
      "73% Letter grade C\n",
      "70% Letter grade C\n",
      "86% Letter grade F\n",
      "61% Letter grade D\n",
      "65% Letter grade C\n",
      "79% Letter grade F\n",
      "94% Letter grade F\n",
      "69% Letter grade C\n"
     ]
    }
   ],
   "source": [
    "import math\n",
    "\n",
    "scores = [72, 81, 44, 68, 90, 53, 80, 75, 74, 65, 50, 92, 85, 69, 41, 73, 70, 86, 61, 65, 79, 94, 69]\n",
    "\n",
    "avg = sum(scores) / len(scores)\n",
    "avg_rounded = round(avg)\n",
    "\n",
    "sd = math.sqrt(sum((x - avg) ** 2 for x in scores) / len(scores))\n",
    "sd_rounded = round(sd)\n",
    "\n",
    "def get_grade(score):\n",
    "    if score > avg + 1.35 * sd + 0.55 * sd:\n",
    "        return \"A\"\n",
    "    elif avg - 0.55 * sd < score < avg + 0.55 * sd:\n",
    "        return \"C\"\n",
    "    elif avg - 1.35 * sd < score < avg - 0.55 * sd:\n",
    "        return \"D\"\n",
    "    else:\n",
    "        return \"F\"\n",
    "\n",
    "grades = [f\"{score}% Letter grade {get_grade(score)}\" for score in scores]\n",
    "\n",
    "print(f\"Average: {avg_rounded}%\")\n",
    "print(f\"Standard deviation: {sd_rounded}\")\n",
    "print(\"\\n\".join(grades))\n"
   ]
  },
  {
   "cell_type": "code",
   "execution_count": 2,
   "id": "c0957928",
   "metadata": {},
   "outputs": [
    {
     "name": "stdout",
     "output_type": "stream",
     "text": [
      "Enter your gender (M/F): M\n",
      "Enter your age: 19\n",
      "Enter your resting heart rate: 64\n",
      "Enter your fitness level (low/med/high): med\n",
      "For a 19-year-old M with 64 resting heart rate and med fitness level, the training heart rate is -51.\n"
     ]
    }
   ],
   "source": [
    "\n",
    "gender = input(\"Enter your gender (M/F): \")\n",
    "age = int(input(\"Enter your age: \"))\n",
    "rest_hr = int(input(\"Enter your resting heart rate: \"))\n",
    "fitness_level = input(\"Enter your fitness level (low/med/high): \")\n",
    "\n",
    "if gender == \"M\":\n",
    "    MHR = 203.7 / (1 + (0.033 * (age - 104.3)))\n",
    "elif gender == \"F\":\n",
    "    MHR = 190.2 / (1 + (0.0453 * (age - 107.5)))\n",
    "else:\n",
    "    raise ValueError(\"Invalid entry, check your input and try again.\")\n",
    "\n",
    "switcher = {\n",
    "    \"low\": 0.55,\n",
    "    \"med\": 0.65,\n",
    "    \"high\": 0.8\n",
    "}\n",
    "INTEN = switcher.get(fitness_level.lower(), \"Invalid entry, check your input and try again.\")\n",
    "\n",
    "if INTEN == \"Invalid entry, check your input and try again.\":\n",
    "    raise ValueError(INTEN)\n",
    "\n",
    "THR = round((MHR - rest_hr) * INTEN + rest_hr)\n",
    "\n",
    "print(f\"For a {age}-year-old {gender} with {rest_hr} resting heart rate and {fitness_level} fitness level, the training heart rate is {THR}.\")\n"
   ]
  },
  {
   "cell_type": "code",
   "execution_count": 3,
   "id": "abe4c04d",
   "metadata": {},
   "outputs": [
    {
     "name": "stdout",
     "output_type": "stream",
     "text": [
      "Enter your gender (M/F): F\n",
      "Enter your age: 20\n",
      "Enter your resting heart rate: 63\n",
      "Enter your fitness level (low/med/high): high\n",
      "For a 20-year-old F with 63 resting heart rate and high fitness level, the training heart rate is -39.\n"
     ]
    }
   ],
   "source": [
    "\n",
    "gender = input(\"Enter your gender (M/F): \")\n",
    "age = int(input(\"Enter your age: \"))\n",
    "rest_hr = int(input(\"Enter your resting heart rate: \"))\n",
    "fitness_level = input(\"Enter your fitness level (low/med/high): \")\n",
    "\n",
    "if gender == \"M\":\n",
    "    MHR = 203.7 / (1 + (0.033 * (age - 104.3)))\n",
    "elif gender == \"F\":\n",
    "    MHR = 190.2 / (1 + (0.0453 * (age - 107.5)))\n",
    "else:\n",
    "    raise ValueError(\"Invalid entry, check your input and try again.\")\n",
    "\n",
    "switcher = {\n",
    "    \"low\": 0.55,\n",
    "    \"med\": 0.65,\n",
    "    \"high\": 0.8\n",
    "}\n",
    "INTEN = switcher.get(fitness_level.lower(), \"Invalid entry, check your input and try again.\")\n",
    "\n",
    "if INTEN == \"Invalid entry, check your input and try again.\":\n",
    "    raise ValueError(INTEN)\n",
    "\n",
    "THR = round((MHR - rest_hr) * INTEN + rest_hr)\n",
    "\n",
    "print(f\"For a {age}-year-old {gender} with {rest_hr} resting heart rate and {fitness_level} fitness level, the training heart rate is {THR}.\")\n"
   ]
  },
  {
   "cell_type": "code",
   "execution_count": 4,
   "id": "fbf86d73",
   "metadata": {},
   "outputs": [
    {
     "name": "stdout",
     "output_type": "stream",
     "text": [
      "Amount to be paid: $6.25\n",
      "Enter payment ($1, $5, $10, $20, or $50): 10\n",
      "Change: $3.75\n",
      "3 $1 bill(s)\n",
      "3 25 cent coin(s)\n"
     ]
    }
   ],
   "source": [
    "import random\n",
    "\n",
    "price = round(random.uniform(0.01, 50.00), 2)\n",
    "\n",
    "print(\"Amount to be paid: ${:.2f}\".format(price))\n",
    "\n",
    "payment = float(input(\"Enter payment ($1, $5, $10, $20, or $50): \"))\n",
    "\n",
    "if payment < price:\n",
    "    print(\"Error: Insufficient payment.\")\n",
    "else:\n",
    "    change = round(payment - price, 2)\n",
    "    print(\"Change: ${:.2f}\".format(change))\n",
    "\n",
    "    bills = [50, 20, 10, 5, 1]\n",
    "    coins = [25, 10, 5, 1]\n",
    "    bill_counts = [0, 0, 0, 0, 0]\n",
    "    coin_counts = [0, 0, 0, 0]\n",
    "\n",
    "    for i in range(5):\n",
    "        while change >= bills[i]:\n",
    "            bill_counts[i] += 1\n",
    "            change -= bills[i]\n",
    "\n",
    "    for i in range(4):\n",
    "        while change >= coins[i]/100:\n",
    "            coin_counts[i] += 1\n",
    "            change -= coins[i]/100\n",
    "\n",
    "    for i in range(5):\n",
    "        if bill_counts[i] > 0:\n",
    "            print(\"{} ${} bill(s)\".format(bill_counts[i], bills[i]))\n",
    "\n",
    "    for i in range(4):\n",
    "        if coin_counts[i] > 0:\n",
    "            print(\"{} {} cent coin(s)\".format(coin_counts[i], coins[i]))\n"
   ]
  },
  {
   "cell_type": "code",
   "execution_count": 5,
   "id": "caeb3e81",
   "metadata": {},
   "outputs": [
    {
     "name": "stdout",
     "output_type": "stream",
     "text": [
      "Enter your weight in pounds: 180\n",
      "Enter your height in inches: 74\n",
      "Your BMI value is 328.7, which classifies you as obese.\n"
     ]
    }
   ],
   "source": [
    "\n",
    "def calculate_bmi(weight, height):\n",
    "    bmi = weight / (height/100)**2\n",
    "    return round(bmi, 1)\n",
    "\n",
    "weight = float(input(\"Enter your weight in pounds: \"))\n",
    "height = float(input(\"Enter your height in inches: \"))\n",
    "\n",
    "bmi = calculate_bmi(weight, height)\n",
    "if bmi < 18.5:\n",
    "    classification = \"underweight\"\n",
    "elif bmi < 25:\n",
    "    classification = \"normal weight\"\n",
    "elif bmi < 30:\n",
    "    classification = \"overweight\"\n",
    "else:\n",
    "    classification = \"obese\"\n",
    "\n",
    "print(f\"Your BMI value is {bmi}, which classifies you as {classification}.\")\n"
   ]
  },
  {
   "cell_type": "code",
   "execution_count": 6,
   "id": "caae387c",
   "metadata": {},
   "outputs": [
    {
     "name": "stdout",
     "output_type": "stream",
     "text": [
      "Enter your weight in pounds: 150\n",
      "Enter your height in inches: 61\n",
      "Your BMI value is 403.1, which classifies you as obese.\n"
     ]
    }
   ],
   "source": [
    "\n",
    "def calculate_bmi(weight, height):\n",
    "    bmi = weight / (height/100)**2\n",
    "    return round(bmi, 1)\n",
    "\n",
    "weight = float(input(\"Enter your weight in pounds: \"))\n",
    "height = float(input(\"Enter your height in inches: \"))\n",
    "\n",
    "bmi = calculate_bmi(weight, height)\n",
    "if bmi < 18.5:\n",
    "    classification = \"underweight\"\n",
    "elif bmi < 25:\n",
    "    classification = \"normal weight\"\n",
    "elif bmi < 30:\n",
    "    classification = \"overweight\"\n",
    "else:\n",
    "    classification = \"obese\"\n",
    "\n",
    "print(f\"Your BMI value is {bmi}, which classifies you as {classification}.\")\n"
   ]
  },
  {
   "cell_type": "code",
   "execution_count": 8,
   "id": "c0f26e4a",
   "metadata": {},
   "outputs": [
    {
     "name": "stdout",
     "output_type": "stream",
     "text": [
      "Enter the numerical value of the area: 55\n",
      "Enter the current unit of measurement (m2, cm2, in2, ft2, yd2, or acre): in2\n",
      "Enter the new unit of measurement (m2, cm2, in2, ft2, yd2, or acre): cm2\n",
      "The equivalent value in cm2 is 354.84\n"
     ]
    }
   ],
   "source": [
    "\n",
    "value = float(input(\"Enter the numerical value of the area: \"))\n",
    "old_unit = input(\"Enter the current unit of measurement (m2, cm2, in2, ft2, yd2, or acre): \")\n",
    "new_unit = input(\"Enter the new unit of measurement (m2, cm2, in2, ft2, yd2, or acre): \")\n",
    "\n",
    "factors = {\"m2\": 1, \"cm2\": 0.0001, \"in2\": 0.00064516, \"ft2\": 0.092903, \"yd2\": 0.836127, \"acre\": 4046.86}\n",
    "\n",
    "new_value = value * factors[old_unit] / factors[new_unit]\n",
    "print(f\"The equivalent value in {new_unit} is {new_value:.2f}\")\n"
   ]
  },
  {
   "cell_type": "code",
   "execution_count": 9,
   "id": "abdff8f2",
   "metadata": {},
   "outputs": [
    {
     "name": "stdout",
     "output_type": "stream",
     "text": [
      "Enter the numerical value of the area: 2400\n",
      "Enter the current unit of measurement (m2, cm2, in2, ft2, yd2, or acre): ft2\n",
      "Enter the new unit of measurement (m2, cm2, in2, ft2, yd2, or acre): m2\n",
      "The equivalent value in m2 is 222.97\n"
     ]
    }
   ],
   "source": [
    "\n",
    "value = float(input(\"Enter the numerical value of the area: \"))\n",
    "old_unit = input(\"Enter the current unit of measurement (m2, cm2, in2, ft2, yd2, or acre): \")\n",
    "new_unit = input(\"Enter the new unit of measurement (m2, cm2, in2, ft2, yd2, or acre): \")\n",
    "\n",
    "factors = {\"m2\": 1, \"cm2\": 0.0001, \"in2\": 0.00064516, \"ft2\": 0.092903, \"yd2\": 0.836127, \"acre\": 4046.86}\n",
    "\n",
    "new_value = value * factors[old_unit] / factors[new_unit]\n",
    "print(f\"The equivalent value in {new_unit} is {new_value:.2f}\")\n"
   ]
  },
  {
   "cell_type": "code",
   "execution_count": 10,
   "id": "d873c548",
   "metadata": {},
   "outputs": [
    {
     "name": "stdout",
     "output_type": "stream",
     "text": [
      "Enter the numerical value of the area: 300\n",
      "Enter the current unit of measurement (m2, cm2, in2, ft2, yd2, or acre): cm2\n",
      "Enter the new unit of measurement (m2, cm2, in2, ft2, yd2, or acre): yd2\n",
      "The equivalent value in yd2 is 0.04\n"
     ]
    }
   ],
   "source": [
    "\n",
    "value = float(input(\"Enter the numerical value of the area: \"))\n",
    "old_unit = input(\"Enter the current unit of measurement (m2, cm2, in2, ft2, yd2, or acre): \")\n",
    "new_unit = input(\"Enter the new unit of measurement (m2, cm2, in2, ft2, yd2, or acre): \")\n",
    "\n",
    "factors = {\"m2\": 1, \"cm2\": 0.0001, \"in2\": 0.00064516, \"ft2\": 0.092903, \"yd2\": 0.836127, \"acre\": 4046.86}\n",
    "\n",
    "new_value = value * factors[old_unit] / factors[new_unit]\n",
    "print(f\"The equivalent value in {new_unit} is {new_value:.2f}\")\n"
   ]
  },
  {
   "cell_type": "code",
   "execution_count": null,
   "id": "dbd8524b",
   "metadata": {},
   "outputs": [],
   "source": []
  }
 ],
 "metadata": {
  "kernelspec": {
   "display_name": "Python 3 (ipykernel)",
   "language": "python",
   "name": "python3"
  },
  "language_info": {
   "codemirror_mode": {
    "name": "ipython",
    "version": 3
   },
   "file_extension": ".py",
   "mimetype": "text/x-python",
   "name": "python",
   "nbconvert_exporter": "python",
   "pygments_lexer": "ipython3",
   "version": "3.10.9"
  }
 },
 "nbformat": 4,
 "nbformat_minor": 5
}

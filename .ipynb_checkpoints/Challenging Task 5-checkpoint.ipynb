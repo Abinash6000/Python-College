{
 "cells": [
  {
   "cell_type": "code",
   "execution_count": 2,
   "id": "34f4248d",
   "metadata": {},
   "outputs": [
    {
     "name": "stdout",
     "output_type": "stream",
     "text": [
      "I win the game\n"
     ]
    }
   ],
   "source": [
    "a = 48\n",
    "b = 345\n",
    "\n",
    "if (a & b >= 1) | (a^b <=1) :\n",
    "    print(\"I win the game\")\n",
    "else:\n",
    "    print(\"I lose the game\")\n"
   ]
  },
  {
   "cell_type": "code",
   "execution_count": 3,
   "id": "42395798",
   "metadata": {},
   "outputs": [
    {
     "name": "stdout",
     "output_type": "stream",
     "text": [
      "I win the game for a = 0 and b = 0\n",
      "I win the game for a = 0 and b = 1\n",
      "I lose the game for a = 0 and b = 2\n",
      "I lose the game for a = 0 and b = 3\n",
      "I lose the game for a = 0 and b = 4\n",
      "I win the game for a = 1 and b = 0\n",
      "I win the game for a = 1 and b = 1\n",
      "I lose the game for a = 1 and b = 2\n",
      "I win the game for a = 1 and b = 3\n",
      "I lose the game for a = 1 and b = 4\n",
      "I lose the game for a = 2 and b = 0\n",
      "I lose the game for a = 2 and b = 1\n",
      "I win the game for a = 2 and b = 2\n",
      "I win the game for a = 2 and b = 3\n",
      "I lose the game for a = 2 and b = 4\n",
      "I lose the game for a = 3 and b = 0\n",
      "I win the game for a = 3 and b = 1\n",
      "I win the game for a = 3 and b = 2\n",
      "I win the game for a = 3 and b = 3\n",
      "I lose the game for a = 3 and b = 4\n",
      "I lose the game for a = 4 and b = 0\n",
      "I lose the game for a = 4 and b = 1\n",
      "I lose the game for a = 4 and b = 2\n",
      "I lose the game for a = 4 and b = 3\n",
      "I win the game for a = 4 and b = 4\n"
     ]
    }
   ],
   "source": [
    "for a in range(5):\n",
    "    for b in range(5):\n",
    "        if (a & b >= 1) | (a^b <= 1):\n",
    "            print(f\"I win the game for a = {a} and b = {b}\")\n",
    "        else:\n",
    "            print(f\"I lose the game for a = {a} and b = {b}\")\n"
   ]
  },
  {
   "cell_type": "code",
   "execution_count": null,
   "id": "d4be9a8a",
   "metadata": {},
   "outputs": [],
   "source": []
  }
 ],
 "metadata": {
  "kernelspec": {
   "display_name": "Python 3 (ipykernel)",
   "language": "python",
   "name": "python3"
  },
  "language_info": {
   "codemirror_mode": {
    "name": "ipython",
    "version": 3
   },
   "file_extension": ".py",
   "mimetype": "text/x-python",
   "name": "python",
   "nbconvert_exporter": "python",
   "pygments_lexer": "ipython3",
   "version": "3.10.9"
  }
 },
 "nbformat": 4,
 "nbformat_minor": 5
}

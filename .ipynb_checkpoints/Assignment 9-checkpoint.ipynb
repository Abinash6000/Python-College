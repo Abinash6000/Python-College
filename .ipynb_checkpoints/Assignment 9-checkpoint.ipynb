{
 "cells": [
  {
   "cell_type": "code",
   "execution_count": 11,
   "id": "8e94dca0",
   "metadata": {},
   "outputs": [
    {
     "name": "stdout",
     "output_type": "stream",
     "text": [
      "15 15 25 30\n",
      "Target: 30\n",
      "Number of weeks:  2\n"
     ]
    }
   ],
   "source": [
    "P = [int(x) for x in input().split()]\n",
    "target = int(input('Target: '))\n",
    "\n",
    "num_weeks_met_target = 0\n",
    "no_of_question_sum = 0\n",
    "for count in P:\n",
    "    no_of_question_sum += count\n",
    "    num_weeks_met_target+=1\n",
    "    if no_of_question_sum>=target:\n",
    "        print(\"Number of weeks: \" , num_weeks_met_target)\n",
    "        break\n"
   ]
  },
  {
   "cell_type": "code",
   "execution_count": 14,
   "id": "e01a80ed",
   "metadata": {},
   "outputs": [
    {
     "name": "stdout",
     "output_type": "stream",
     "text": [
      "4\n",
      "10\n",
      "4\n",
      "9\n",
      "3\n",
      "[3, 4, 9, 10]\n"
     ]
    }
   ],
   "source": [
    "t = int(input())\n",
    "\n",
    "numbers = []\n",
    "for i in range(t):\n",
    "    n = int(input())\n",
    "    numbers.append(n)\n",
    "\n",
    "sorted_numbers = sorted(numbers)\n",
    "\n",
    "print(sorted_numbers)"
   ]
  },
  {
   "cell_type": "code",
   "execution_count": 18,
   "id": "d042e86a",
   "metadata": {},
   "outputs": [
    {
     "name": "stdout",
     "output_type": "stream",
     "text": [
      "1\n",
      "140 82\n",
      "1 58\n"
     ]
    }
   ],
   "source": [
    "# initialize variables\n",
    "player1_score = 0\n",
    "player2_score = 0\n",
    "max_lead = 0\n",
    "winner = 1  # assume Player 1 is the winner initially\n",
    "\n",
    "# read in the number of rounds\n",
    "n = int(input())\n",
    "\n",
    "# iterate over the rounds\n",
    "for i in range(n):\n",
    "    # read in the scores for this round\n",
    "    player1_score, player2_score = map(int, input().split())\n",
    "\n",
    "\n",
    "    # compute the lead and update the maximum lead if necessary\n",
    "    lead = abs(player1_score - player2_score)\n",
    "    if lead > max_lead:\n",
    "        max_lead = lead\n",
    "        if player1_score > player2_score:\n",
    "            winner = 1\n",
    "        else:\n",
    "            winner = 2\n",
    "\n",
    "# output the winner and the winning lead\n",
    "print(winner, max_lead)\n"
   ]
  },
  {
   "cell_type": "code",
   "execution_count": null,
   "id": "dd2a7db7",
   "metadata": {},
   "outputs": [],
   "source": []
  }
 ],
 "metadata": {
  "kernelspec": {
   "display_name": "Python 3 (ipykernel)",
   "language": "python",
   "name": "python3"
  },
  "language_info": {
   "codemirror_mode": {
    "name": "ipython",
    "version": 3
   },
   "file_extension": ".py",
   "mimetype": "text/x-python",
   "name": "python",
   "nbconvert_exporter": "python",
   "pygments_lexer": "ipython3",
   "version": "3.10.9"
  }
 },
 "nbformat": 4,
 "nbformat_minor": 5
}

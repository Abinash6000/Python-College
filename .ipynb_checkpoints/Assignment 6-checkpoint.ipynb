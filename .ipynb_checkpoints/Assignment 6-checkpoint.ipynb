{
 "cells": [
  {
   "cell_type": "code",
   "execution_count": 3,
   "id": "e0e08875",
   "metadata": {},
   "outputs": [
    {
     "name": "stdout",
     "output_type": "stream",
     "text": [
      "Tom, 19, 80\n",
      "John, 20, 90\n",
      "Json, 21, 85\n",
      "\n",
      "('John', '20', '90')\n",
      "('Json', '21', '85')\n",
      "('Tom', '19', '80')\n"
     ]
    }
   ],
   "source": [
    "def sort_tuples(tuples):\n",
    "    return sorted(tuples, key=lambda x: (x[0], int(x[1]), int(x[2])))\n",
    "\n",
    "tuples = []\n",
    "while True:\n",
    "    try:\n",
    "        input_str = input().strip()\n",
    "        if not input_str:\n",
    "            break\n",
    "        name, age, height = input_str.split(',')\n",
    "        tuples.append((name.strip(), age.strip(), height.strip()))\n",
    "    except:\n",
    "        break\n",
    "\n",
    "sorted_tuples = sort_tuples(tuples)\n",
    "\n",
    "for tuple in sorted_tuples:\n",
    "    print(tuple)\n"
   ]
  },
  {
   "cell_type": "code",
   "execution_count": 4,
   "id": "da56c855",
   "metadata": {},
   "outputs": [
    {
     "name": "stdout",
     "output_type": "stream",
     "text": [
      "UP 5\n",
      "DOWN 3\n",
      "LEFT 3\n",
      "RIGHT 2\n",
      "\n",
      "2\n"
     ]
    }
   ],
   "source": [
    "import math\n",
    "\n",
    "x, y = 0, 0 \n",
    "while True:\n",
    "    s = input().strip()\n",
    "    if not s:\n",
    "        break\n",
    "\n",
    "    direction, steps = s.split()\n",
    "    steps = int(steps)\n",
    "\n",
    "    if direction == 'UP':\n",
    "        y += steps\n",
    "    elif direction == 'DOWN':\n",
    "        y -= steps\n",
    "    elif direction == 'LEFT':\n",
    "        x -= steps\n",
    "    elif direction == 'RIGHT':\n",
    "        x += steps\n",
    "\n",
    "distance = math.sqrt(x**2 + y**2)\n",
    "\n",
    "print(round(distance))\n"
   ]
  },
  {
   "cell_type": "code",
   "execution_count": 5,
   "id": "8517fcc0",
   "metadata": {},
   "outputs": [
    {
     "name": "stdout",
     "output_type": "stream",
     "text": [
      "(1, 2, 3, 4, 5)\n",
      "(6, 7, 8, 9, 10)\n"
     ]
    }
   ],
   "source": [
    "t = (1, 2, 3, 4, 5, 6, 7, 8, 9, 10)\n",
    "\n",
    "midpoint = len(t) // 2\n",
    "\n",
    "print(t[:midpoint])\n",
    "\n",
    "print(t[midpoint:])\n"
   ]
  },
  {
   "cell_type": "code",
   "execution_count": 7,
   "id": "037db477",
   "metadata": {},
   "outputs": [],
   "source": [
    "def binary_search(lst, item):\n",
    "    \"\"\"Searches for an item in a sorted list using binary search.\n",
    "\n",
    "    Returns the index of the item in the list if found,\n",
    "    or None if the item is not in the list.\n",
    "    \"\"\"\n",
    "    low = 0\n",
    "    high = len(lst) - 1\n",
    "\n",
    "    while low <= high:\n",
    "        mid = (low + high) // 2\n",
    "        if lst[mid] == item:\n",
    "            return mid\n",
    "        elif lst[mid] < item:\n",
    "            low = mid + 1\n",
    "        else:\n",
    "            high = mid - 1\n",
    "\n",
    "    # Item not found\n",
    "    return None\n"
   ]
  },
  {
   "cell_type": "code",
   "execution_count": 8,
   "id": "24046343",
   "metadata": {},
   "outputs": [
    {
     "name": "stdout",
     "output_type": "stream",
     "text": [
      "6 found at index 5\n"
     ]
    }
   ],
   "source": [
    "lst = [1, 2, 3, 4, 5, 6, 7, 8, 9, 10]\n",
    "item = 6\n",
    "index = binary_search(lst, item)\n",
    "if index is not None:\n",
    "    print(f\"{item} found at index {index}\")\n",
    "else:\n",
    "    print(f\"{item} not found in list\")\n"
   ]
  },
  {
   "cell_type": "code",
   "execution_count": 9,
   "id": "9b326a60",
   "metadata": {},
   "outputs": [
    {
     "name": "stdout",
     "output_type": "stream",
     "text": [
      "Enter hours worked: 57\n",
      "Enter hourly rate: 1000\n",
      "Gross pay: $ 65500.0\n"
     ]
    }
   ],
   "source": [
    "hours = float(input(\"Enter hours worked: \"))\n",
    "rate = float(input(\"Enter hourly rate: \"))\n",
    "\n",
    "if hours <= 40:\n",
    "    gross_pay = hours * rate\n",
    "else:\n",
    "    overtime_hours = hours - 40\n",
    "    gross_pay = (40 * rate) + (overtime_hours * rate * 1.5)\n",
    "\n",
    "print(\"Gross pay: $\", round(gross_pay, 2))\n"
   ]
  },
  {
   "cell_type": "code",
   "execution_count": 10,
   "id": "681614d4",
   "metadata": {},
   "outputs": [
    {
     "name": "stdout",
     "output_type": "stream",
     "text": [
      "Enter a score between 0.0 and 1.0: 0.97\n",
      "A\n"
     ]
    }
   ],
   "source": [
    "score = float(input(\"Enter a score between 0.0 and 1.0: \"))\n",
    "\n",
    "if score < 0.0 or score > 1.0:\n",
    "    print(\"Error: score is out of range\")\n",
    "elif score >= 0.9:\n",
    "    print(\"A\")\n",
    "elif score >= 0.8:\n",
    "    print(\"B\")\n",
    "elif score >= 0.7:\n",
    "    print(\"C\")\n",
    "elif score >= 0.6:\n",
    "    print(\"D\")\n",
    "else:\n",
    "    print(\"F\")\n"
   ]
  },
  {
   "cell_type": "code",
   "execution_count": 11,
   "id": "78e23e83",
   "metadata": {},
   "outputs": [
    {
     "name": "stdout",
     "output_type": "stream",
     "text": [
      "Enter a number: 2934857\n",
      "Large\n"
     ]
    }
   ],
   "source": [
    "num = float(input(\"Enter a number: \"))\n",
    "\n",
    "if num < 2:\n",
    "    print(\"Small\")\n",
    "elif num < 10:\n",
    "    print(\"Medium\")\n",
    "else:\n",
    "    print(\"Large\")\n"
   ]
  },
  {
   "cell_type": "code",
   "execution_count": null,
   "id": "efc01649",
   "metadata": {},
   "outputs": [],
   "source": []
  }
 ],
 "metadata": {
  "kernelspec": {
   "display_name": "Python 3 (ipykernel)",
   "language": "python",
   "name": "python3"
  },
  "language_info": {
   "codemirror_mode": {
    "name": "ipython",
    "version": 3
   },
   "file_extension": ".py",
   "mimetype": "text/x-python",
   "name": "python",
   "nbconvert_exporter": "python",
   "pygments_lexer": "ipython3",
   "version": "3.10.9"
  }
 },
 "nbformat": 4,
 "nbformat_minor": 5
}

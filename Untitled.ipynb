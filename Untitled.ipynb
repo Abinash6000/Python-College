{
 "cells": [
  {
   "cell_type": "markdown",
   "id": "4e1d7b8c",
   "metadata": {},
   "source": [
    "22BAI10097  ABINASHA DASH"
   ]
  },
  {
   "cell_type": "code",
   "execution_count": 5,
   "id": "6fb034c5",
   "metadata": {
    "scrolled": true
   },
   "outputs": [
    {
     "name": "stdout",
     "output_type": "stream",
     "text": [
      "My brain says crunches but my stomach says cupcakes\n"
     ]
    }
   ],
   "source": [
    "import string\n",
    "\n",
    "def remove_punctuation(text):\n",
    "    # Iterate over each character in the text\n",
    "    # and check if it is a punctuation character\n",
    "    # using string.punctuation constant\n",
    "    # If the character is not a punctuation character,\n",
    "    # include it in the resulting string\n",
    "    # using list comprehension\n",
    "    return ''.join(char for char in text if char not in string.punctuation)\n",
    "\n",
    "sentence = \"My brain says 'crunches' but my stomach says 'cupcakes.'\"\n",
    "result = remove_punctuation(sentence)\n",
    "\n",
    "print(result)\n"
   ]
  },
  {
   "cell_type": "markdown",
   "id": "324b310f",
   "metadata": {},
   "source": [
    "<b>Explanation</b>"
   ]
  },
  {
   "cell_type": "markdown",
   "id": "f8736463",
   "metadata": {},
   "source": [
    "In this example, the remove_punctuation function takes a string text as input. It uses the string.punctuation constant to check if each character in the string is a punctuation character. If the character is not a punctuation character, it is included in the resulting string using a list comprehension. The resulting characters are then joined together using the join method and returned as the output."
   ]
  },
  {
   "cell_type": "code",
   "execution_count": null,
   "id": "3db388bc",
   "metadata": {},
   "outputs": [],
   "source": []
  }
 ],
 "metadata": {
  "kernelspec": {
   "display_name": "Python 3 (ipykernel)",
   "language": "python",
   "name": "python3"
  },
  "language_info": {
   "codemirror_mode": {
    "name": "ipython",
    "version": 3
   },
   "file_extension": ".py",
   "mimetype": "text/x-python",
   "name": "python",
   "nbconvert_exporter": "python",
   "pygments_lexer": "ipython3",
   "version": "3.10.9"
  }
 },
 "nbformat": 4,
 "nbformat_minor": 5
}

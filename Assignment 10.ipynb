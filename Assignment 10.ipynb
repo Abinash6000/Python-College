{
 "cells": [
  {
   "cell_type": "markdown",
   "id": "a4e9e9a0",
   "metadata": {},
   "source": [
    "1"
   ]
  },
  {
   "cell_type": "code",
   "execution_count": 1,
   "id": "966b8aa3",
   "metadata": {},
   "outputs": [
    {
     "name": "stdout",
     "output_type": "stream",
     "text": [
      "Enter the length of the pendulum in meters: 10\n",
      "The period of the pendulum is 6.35 seconds.\n"
     ]
    }
   ],
   "source": [
    "import math\n",
    "\n",
    "g = 9.8  # Acceleration due to gravity in m/s^2\n",
    "\n",
    "# Ask user for the length of the pendulum\n",
    "L = float(input(\"Enter the length of the pendulum in meters: \"))\n",
    "\n",
    "# Calculate the period using the formula\n",
    "T = 2 * math.pi * math.sqrt(L / g)\n",
    "\n",
    "# Display the period\n",
    "print(\"The period of the pendulum is\", round(T, 2), \"seconds.\")"
   ]
  },
  {
   "cell_type": "markdown",
   "id": "b179e146",
   "metadata": {},
   "source": [
    "2"
   ]
  },
  {
   "cell_type": "code",
   "execution_count": 4,
   "id": "8b2ff7b0",
   "metadata": {},
   "outputs": [
    {
     "name": "stdout",
     "output_type": "stream",
     "text": [
      "Enter the length of the pendulum in meters: 2\n",
      "Enter the initial angular displacement in degrees: 20\n",
      "The maximum angular displacement of the pendulum is 17.99 degrees.\n"
     ]
    }
   ],
   "source": [
    "L = float(input(\"Enter the length of the pendulum in meters: \"))\n",
    "theta_0 = float(input(\"Enter the initial angular displacement in degrees: \"))\n",
    "\n",
    "theta_0 = math.radians(theta_0)\n",
    "\n",
    "theta_max = theta_0 * math.cos(math.sqrt(L/9.8))\n",
    "\n",
    "theta_max_deg = math.degrees(theta_max)\n",
    "\n",
    "print(\"The maximum angular displacement of the pendulum is\", round(theta_max_deg, 2), \"degrees.\")\n"
   ]
  },
  {
   "cell_type": "markdown",
   "id": "77f94355",
   "metadata": {},
   "source": [
    "3"
   ]
  },
  {
   "cell_type": "code",
   "execution_count": 3,
   "id": "9ecd3e85",
   "metadata": {},
   "outputs": [
    {
     "name": "stdout",
     "output_type": "stream",
     "text": [
      "Enter the length of the pendulum in meters: 1.5\n",
      "Enter the initial angular displacement in degrees: 20\n",
      "Enter the initial velocity in m/s: 0.25\n",
      "Enter the time in seconds: 0.5\n",
      "The angular displacement of the pendulum at time 0.5 seconds is 11.14 degrees.\n"
     ]
    }
   ],
   "source": [
    "L = float(input(\"Enter the length of the pendulum in meters: \"))\n",
    "theta_0 = float(input(\"Enter the initial angular displacement in degrees: \"))\n",
    "theta_0 = math.radians(theta_0)\n",
    "v_0 = float(input(\"Enter the initial velocity in m/s: \"))\n",
    "t = float(input(\"Enter the time in seconds: \"))\n",
    "\n",
    "# Calculate the angular displacement using the formula\n",
    "theta_t = theta_0 * math.cos(math.sqrt(9.8/L) * t) + (v_0 / math.sqrt(9.8/L)) * math.sin(math.sqrt(9.8/L) * t)\n",
    "\n",
    "# Convert the angular displacement from radians to degrees\n",
    "theta_t_deg = math.degrees(theta_t)\n",
    "\n",
    "# Display the angular displacement\n",
    "print(\"The angular displacement of the pendulum at time\", t, \"seconds is\", round(theta_t_deg, 2), \"degrees.\")\n"
   ]
  },
  {
   "cell_type": "markdown",
   "id": "9493222b",
   "metadata": {},
   "source": [
    "4"
   ]
  },
  {
   "cell_type": "code",
   "execution_count": 8,
   "id": "f7897457",
   "metadata": {},
   "outputs": [
    {
     "name": "stdout",
     "output_type": "stream",
     "text": [
      "Standard Deviation  14.16\n",
      "Maximum daily return  17\n",
      "Minimum daily return  -25\n"
     ]
    }
   ],
   "source": [
    "import random\n",
    "percentage_change = [random.randint(-25,25) for i in range(10)]\n",
    "x_bar = sum(percentage_change)/len(percentage_change)\n",
    "sigma_x_i_minus_x_bar_squared = 0\n",
    "\n",
    "for x_i in percentage_change:\n",
    "    sigma_x_i_minus_x_bar_squared += (x_i-x_bar)**2\n",
    "    \n",
    "variance = sigma_x_i_minus_x_bar_squared/len(percentage_change)\n",
    "standard_deviation = math.sqrt(variance)\n",
    "print('Standard Deviation ', round(standard_deviation,2))\n",
    "print('Maximum daily return ', max(percentage_change))\n",
    "print('Minimum daily return ', min(percentage_change))"
   ]
  },
  {
   "cell_type": "markdown",
   "id": "3922ae62",
   "metadata": {},
   "source": [
    "15"
   ]
  },
  {
   "cell_type": "code",
   "execution_count": 14,
   "id": "4d915a64",
   "metadata": {},
   "outputs": [
    {
     "name": "stdout",
     "output_type": "stream",
     "text": [
      "Population Sizes (in millions):\n",
      "--------------------------------\n",
      "Male   \t739456500\n",
      "Female \t692692800\n",
      "Gender Ratio \t106.75\n"
     ]
    }
   ],
   "source": [
    "import random\n",
    "\n",
    "male_pop = 739456500\n",
    "female_pop = 692692800\n",
    "\n",
    "print('Population Sizes (in millions):')\n",
    "print('--------------------------------')\n",
    "print(f'Male   \\t{male_pop}')\n",
    "print(f'Female \\t{female_pop}')\n",
    "print(f'Gender Ratio \\t{round((male_pop/female_pop)*100,2)}')"
   ]
  },
  {
   "cell_type": "markdown",
   "id": "4d739719",
   "metadata": {},
   "source": [
    "11"
   ]
  },
  {
   "cell_type": "code",
   "execution_count": 15,
   "id": "e9b59704",
   "metadata": {},
   "outputs": [
    {
     "name": "stdout",
     "output_type": "stream",
     "text": [
      "The average time on the website is 0:47:30\n"
     ]
    }
   ],
   "source": [
    "def timeSpend(start,end):\n",
    "    Sec = []\n",
    "    for i in range(len(start)):\n",
    "        h1,m1,s1= [int(x) for x in start[i].split(\":\")]\n",
    "        startSec =  h1*3600+m1*60+s1\n",
    "             \n",
    "        h2,m2,s2 = [int(x) for x in end[i].split(\":\")]\n",
    "        endSec = h2*3600+m2*60+s2\n",
    "        Sec.append(endSec - startSec )\n",
    "#     print(Sec)\n",
    "    avgSec = sum(Sec)/len(Sec)\n",
    "    ahr = int(avgSec//3600)\n",
    "    remSec = int(avgSec%3600) #remaining seconds\n",
    "    amin = int(remSec // 60)\n",
    "    asec = int(remSec % 60)\n",
    "    print(f\"The average time on the website is {ahr}:{amin}:{asec}\")\n",
    "   \n",
    "\n",
    "   \n",
    "start = ['3:40:50' ,'4:20:50', '5:5:30','1:30:0']\n",
    "end = ['4:20:25','5:25:30','5:55:20','2:5:55']\n",
    "\n",
    "# start = input(\"Enter Start time stamp\")\n",
    "# end = input(\"Enter end time stamp\")\n",
    "timeSpend(start,end)"
   ]
  },
  {
   "cell_type": "markdown",
   "id": "7e9fd1c4",
   "metadata": {},
   "source": [
    "16"
   ]
  },
  {
   "cell_type": "code",
   "execution_count": 16,
   "id": "999b23b5",
   "metadata": {},
   "outputs": [
    {
     "name": "stdout",
     "output_type": "stream",
     "text": [
      "States with Highest Population Growth Rates:\n",
      "-------------------------------------------\n",
      "Uttar Pradesh: 56.14%\n",
      "Bihar: 44.15%\n",
      "West Bengal: 34.07%\n",
      "Maharashtra: 33.84%\n",
      "Madhya Pradesh: 27.20%\n"
     ]
    }
   ],
   "source": [
    "# Historical population data for selected Indian states (in millions)\n",
    "population_data = {\n",
    "    'Maharashtra': [72.4, 78.9, 85.1, 91.2, 96.9],\n",
    "    'Uttar Pradesh': [166.2, 190.9, 214.0, 237.8, 259.5],\n",
    "    'Bihar': [82.9, 92.0, 101.8, 110.2, 119.5],\n",
    "    'West Bengal': [68.1, 75.0, 80.2, 85.2, 91.3],\n",
    "    'Madhya Pradesh': [60.3, 64.3, 68.6, 72.6, 76.7]\n",
    "}\n",
    "\n",
    "# Calculate population growth rates for each state\n",
    "growth_rates = {}\n",
    "for state, population in population_data.items():\n",
    "    initial_pop = population[0]\n",
    "    final_pop = population[-1]\n",
    "    growth_rate = (final_pop - initial_pop) / initial_pop * 100\n",
    "    growth_rates[state] = growth_rate\n",
    "\n",
    "# Display the states with the highest growth rates\n",
    "print('States with Highest Population Growth Rates:')\n",
    "print('-------------------------------------------')\n",
    "for state, growth_rate in sorted(growth_rates.items(), key=lambda x: x[1], reverse=True):\n",
    "    print(f'{state}: {growth_rate:.2f}%')\n"
   ]
  },
  {
   "cell_type": "markdown",
   "id": "de678e3b",
   "metadata": {},
   "source": [
    "12"
   ]
  },
  {
   "cell_type": "code",
   "execution_count": 17,
   "id": "d140e2d7",
   "metadata": {},
   "outputs": [
    {
     "name": "stdout",
     "output_type": "stream",
     "text": [
      "Most Visited Pages:\n",
      "--------------------\n",
      "/home: 4 visits\n",
      "/products: 3 visits\n",
      "/about: 2 visits\n",
      "/contact: 1 visits\n"
     ]
    }
   ],
   "source": [
    "# Website visit data (page paths)\n",
    "website_data = [\n",
    "    '/home',\n",
    "    '/products',\n",
    "    '/about',\n",
    "    '/products',\n",
    "    '/home',\n",
    "    '/products',\n",
    "    '/contact',\n",
    "    '/home',\n",
    "    '/about',\n",
    "    '/home'\n",
    "]\n",
    "\n",
    "# Count the number of visits to each page\n",
    "page_counts = {}\n",
    "for page in website_data:\n",
    "    if page in page_counts:\n",
    "        page_counts[page] += 1\n",
    "    else:\n",
    "        page_counts[page] = 1\n",
    "\n",
    "# Display the most visited pages and their visit counts\n",
    "print('Most Visited Pages:')\n",
    "print('--------------------')\n",
    "for page, count in sorted(page_counts.items(), key=lambda x: x[1], reverse=True):\n",
    "    print(f'{page}: {count} visits')\n"
   ]
  },
  {
   "cell_type": "markdown",
   "id": "ff5d8d24",
   "metadata": {},
   "source": [
    "14"
   ]
  },
  {
   "cell_type": "code",
   "execution_count": 20,
   "id": "a507620d",
   "metadata": {},
   "outputs": [
    {
     "name": "stdout",
     "output_type": "stream",
     "text": [
      "Age Distribution of the Indian Population:\n",
      "-----------------------------------------\n",
      "0-14: 361.61244 million\n",
      "15-64: 950.27076 million\n",
      "65+: 95.7168 million\n"
     ]
    }
   ],
   "source": [
    "population_of_india = 1407.6  # in millions\n",
    "\n",
    "# analysing population according to percentage in age groups\n",
    "population_data = {\n",
    "    '0-14': (25.69/100)*population_of_india,\n",
    "    '15-64': (67.51/100)*population_of_india,\n",
    "    '65+': (6.8/100)*population_of_india\n",
    "}\n",
    "\n",
    "print('Age Distribution of the Indian Population:')\n",
    "print('-----------------------------------------')\n",
    "for age_group, population_size in population_data.items():\n",
    "    print(f'{age_group}: {population_size} million')\n"
   ]
  },
  {
   "cell_type": "markdown",
   "id": "22220205",
   "metadata": {},
   "source": [
    "13"
   ]
  },
  {
   "cell_type": "code",
   "execution_count": 22,
   "id": "34321542",
   "metadata": {},
   "outputs": [
    {
     "name": "stdout",
     "output_type": "stream",
     "text": [
      "Average of home page duration  15.0\n",
      "Average of Electronic page duration  26.0\n",
      "Average of Fashion page duration 30.4\n",
      "Max Duration is  30.4\n"
     ]
    }
   ],
   "source": [
    "def avg(duration):\n",
    "    avg = sum(duration)/len(duration)\n",
    "    return avg\n",
    "home_Page_Duration = [10,15,20,5,25]\n",
    "electronic_Page_Duration = [15,25,10,50,30]\n",
    "fashion_Page_Duration = [50,25,26,23,28]\n",
    "average_Duration = [avg(home_Page_Duration),avg(electronic_Page_Duration),avg(fashion_Page_Duration)]\n",
    "# print(average_Duration)\n",
    "\n",
    "max_duration = max(average_Duration)\n",
    "\n",
    "print(\"Average of home page duration \",avg(home_Page_Duration))\n",
    "print(\"Average of Electronic page duration \",avg(electronic_Page_Duration))\n",
    "print(\"Average of Fashion page duration\",avg(fashion_Page_Duration))\n",
    "print(\"Max Duration is \",max_duration)"
   ]
  },
  {
   "cell_type": "markdown",
   "id": "209dfdf0",
   "metadata": {},
   "source": [
    "10"
   ]
  },
  {
   "cell_type": "code",
   "execution_count": 23,
   "id": "f1784fda",
   "metadata": {},
   "outputs": [
    {
     "name": "stdout",
     "output_type": "stream",
     "text": [
      "Real Returns and Change in Purchasing Power:\n",
      "-------------------------------------------\n",
      "Real return for year 1: 11.14%\n",
      "Change in purchasing power for year 1: 3.65%\n",
      "\n",
      "Real return for year 2: 8.02%\n",
      "Change in purchasing power for year 2: 3.41%\n",
      "\n",
      "Real return for year 3: 3.67%\n",
      "Change in purchasing power for year 3: 5.91%\n",
      "\n",
      "Real return for year 4: 8.42%\n",
      "Change in purchasing power for year 4: 3.39%\n",
      "\n",
      "Real return for year 5: 5.96%\n",
      "Change in purchasing power for year 5: 2.49%\n",
      "\n"
     ]
    }
   ],
   "source": [
    "# Historical inflation rates and investment returns in India\n",
    "inflation_rates = [3.65, 3.41, 5.91, 3.39, 2.49]\n",
    "investment_returns = [15.2, 11.7, 9.8, 12.1, 8.6]\n",
    "\n",
    "# Calculate the real returns\n",
    "real_returns = []\n",
    "for i in range(len(inflation_rates)):\n",
    "    real_return = (1 + (investment_returns[i] / 100)) / (1 + (inflation_rates[i] / 100)) - 1\n",
    "    real_returns.append(real_return)\n",
    "\n",
    "# Display the real returns and corresponding change in purchasing power\n",
    "print('Real Returns and Change in Purchasing Power:')\n",
    "print('-------------------------------------------')\n",
    "for i in range(len(real_returns)):\n",
    "    print(f'Real return for year {i+1}: {round(real_returns[i]*100, 2)}%')\n",
    "    print(f'Change in purchasing power for year {i+1}: {round(inflation_rates[i], 2)}%\\n')\n"
   ]
  },
  {
   "cell_type": "markdown",
   "id": "c83c4a16",
   "metadata": {},
   "source": [
    "8"
   ]
  },
  {
   "cell_type": "code",
   "execution_count": 25,
   "id": "7659674d",
   "metadata": {},
   "outputs": [
    {
     "name": "stdout",
     "output_type": "stream",
     "text": [
      "Average inflation Rate: 6.4975000000000005\n",
      "Standard Deviation of inflation rate: 2.5520118114370645\n",
      "Maximum Rate of inflation is 11.06% in year 2015\n",
      "Minimun Rate of inflation if 3.33% in year 2019\n"
     ]
    }
   ],
   "source": [
    "import statistics\n",
    "# Inflation rate of india 2021-2012\n",
    "inflationRate = {\n",
    "    2021:5.13,\n",
    "    2020:6.62,\n",
    "    2019:3.73,\n",
    "    2018:3.94,\n",
    "    2019:3.33,\n",
    "    2018:4.95,\n",
    "    2017:4.91,\n",
    "    2016:6.67,\n",
    "    2015:11.06,\n",
    "    2014:9.31\n",
    "}\n",
    "\n",
    "avg = sum(inflationRate.values())/len(inflationRate.values())\n",
    "deviation = statistics.stdev(inflationRate.values())\n",
    "\n",
    "maxRate = max(inflationRate.values())\n",
    "minRate  = min(inflationRate.values())\n",
    "\n",
    "print(\"Average inflation Rate:\",avg)\n",
    "print(\"Standard Deviation of inflation rate:\",deviation)\n",
    "print(f\"Maximum Rate of inflation is {maxRate}% in year\",list(inflationRate.keys())\n",
    "      [list(inflationRate.values()).index(maxRate)])\n",
    "print(f\"Minimun Rate of inflation if {minRate}% in year\",list(inflationRate.keys())\n",
    "      [list(inflationRate.values()).index(minRate)])"
   ]
  },
  {
   "cell_type": "markdown",
   "id": "8b2dba81",
   "metadata": {},
   "source": [
    "5"
   ]
  },
  {
   "cell_type": "code",
   "execution_count": 33,
   "id": "943414e0",
   "metadata": {},
   "outputs": [
    {
     "name": "stdout",
     "output_type": "stream",
     "text": [
      "Correlation Coefficient:\n",
      "------------------------\n",
      "0.12\n"
     ]
    }
   ],
   "source": [
    "# Historical price data for two stocks\n",
    "stock1_prices = [143.75, 148.9, 153.65, 152.05, 150.8, 153.7, 155.1, 157.25, 155.45, 157.35]\n",
    "stock2_prices = [260.25, 258.6, 263.75, 266.9, 267.15, 272.3, 276.8, 274.25, 273.6, 275.9]\n",
    "\n",
    "# Calculate the daily returns of each stock\n",
    "stock1_returns = []\n",
    "stock2_returns = []\n",
    "for i in range(1, len(stock1_prices)):\n",
    "    stock1_return = (stock1_prices[i] - stock1_prices[i-1]) / stock1_prices[i-1]\n",
    "    stock2_return = (stock2_prices[i] - stock2_prices[i-1]) / stock2_prices[i-1]\n",
    "    stock1_returns.append(stock1_return)\n",
    "    stock2_returns.append(stock2_return)\n",
    "\n",
    "# Calculate the correlation coefficient\n",
    "n = len(stock1_returns)\n",
    "sum_xy = sum([stock1_returns[i] * stock2_returns[i] for i in range(n)])\n",
    "sum_x = sum(stock1_returns)\n",
    "sum_y = sum(stock2_returns)\n",
    "sum_x2 = sum([x**2 for x in stock1_returns])\n",
    "sum_y2 = sum([y**2 for y in stock2_returns])\n",
    "numerator = n * sum_xy - sum_x * sum_y\n",
    "denominator = ((n * sum_x2 - sum_x**2) * (n * sum_y2 - sum_y**2))**0.5\n",
    "correlation = numerator / denominator\n",
    "\n",
    "# Display the correlation coefficient\n",
    "print('Correlation Coefficient:')\n",
    "print('------------------------')\n",
    "print(f'{correlation:.2f}')"
   ]
  },
  {
   "cell_type": "markdown",
   "id": "ed96970c",
   "metadata": {},
   "source": [
    "6"
   ]
  },
  {
   "cell_type": "code",
   "execution_count": 40,
   "id": "1b5c5456",
   "metadata": {},
   "outputs": [
    {
     "name": "stdout",
     "output_type": "stream",
     "text": [
      "Annualized volatility: 27.19%\n"
     ]
    }
   ],
   "source": [
    "import math\n",
    "import statistics\n",
    "\n",
    "def annualized_volatility(returns):\n",
    "    daily_volatility = statistics.stdev(returns)\n",
    "    annual_volatility = daily_volatility * math.sqrt(252) # Assuming 252 trading days in a year\n",
    "    return annual_volatility\n",
    "\n",
    "# Example usage\n",
    "daily_returns = [0.01, -0.02, 0.03, 0.02, -0.01, 0.02, -0.01, 0.02, -0.01, 0.01]\n",
    "volatility = annualized_volatility(daily_returns)\n",
    "print(\"Annualized volatility: {:.2%}\".format(volatility))"
   ]
  },
  {
   "cell_type": "markdown",
   "id": "104808d4",
   "metadata": {},
   "source": [
    "9"
   ]
  },
  {
   "cell_type": "code",
   "execution_count": 45,
   "id": "8335610b",
   "metadata": {},
   "outputs": [
    {
     "name": "stdout",
     "output_type": "stream",
     "text": [
      "Predicted inflation rate for 2024: 5.60%\n"
     ]
    }
   ],
   "source": [
    "# Import the necessary libraries\n",
    "import numpy as np\n",
    "from sklearn.linear_model import LinearRegression\n",
    "\n",
    "# Define the historical inflation data for India\n",
    "years = np.array([2015, 2016, 2017, 2018, 2019, 2020])\n",
    "inflation_rates = np.array([4.91, 4.95,  3.33,3.94, 3.73, 6.62])\n",
    "\n",
    "# Prepare the data by separating the independent and dependent variables\n",
    "X = years.reshape(-1, 1)\n",
    "y = inflation_rates\n",
    "\n",
    "# Train the linear regression model\n",
    "regressor = LinearRegression()\n",
    "regressor.fit(X, y)\n",
    "\n",
    "# Use the trained model to predict the inflation rate for the future period\n",
    "future_year = 2024\n",
    "future_inflation = regressor.predict([[future_year]])\n",
    "print('Predicted inflation rate for {}: {:.2f}%'.format(future_year, future_inflation[0]))"
   ]
  },
  {
   "cell_type": "markdown",
   "id": "764e486f",
   "metadata": {},
   "source": [
    "7"
   ]
  },
  {
   "cell_type": "code",
   "execution_count": 43,
   "id": "d9cf28a0",
   "metadata": {},
   "outputs": [
    {
     "name": "stdout",
     "output_type": "stream",
     "text": [
      "Top-performing stocks:\n",
      "Stock A: 100.0%\n",
      "Stock C: 66.66666666666666%\n",
      "Stock B: 50.0%\n"
     ]
    }
   ],
   "source": [
    "# Step 1: Prepare the historical price data\n",
    "price_data = [\n",
    "    {\"stock_name\": \"Stock A\", \"prices\": [10, 15, 12, 18, 20]},\n",
    "    {\"stock_name\": \"Stock B\", \"prices\": [20, 22, 25, 28, 30]},\n",
    "    {\"stock_name\": \"Stock C\", \"prices\": [30, 35, 40, 45, 50]}\n",
    "]\n",
    "\n",
    "# Step 2: Calculate the returns\n",
    "returns = {}\n",
    "for stock in price_data:\n",
    "    stock_name = stock[\"stock_name\"]\n",
    "    prices = stock[\"prices\"]\n",
    "    initial_price = prices[0]\n",
    "    final_price = prices[-1]\n",
    "    stock_return = (final_price - initial_price) / initial_price\n",
    "    returns[stock_name] = stock_return\n",
    "\n",
    "# Step 3: Find the top-performing stocks\n",
    "top_stocks = sorted(returns.items(), key=lambda x: x[1], reverse=True)[:3]  # Change the number to display more stocks\n",
    "\n",
    "# Step 4: Display the results\n",
    "print(\"Top-performing stocks:\")\n",
    "for stock_name, stock_return in top_stocks:\n",
    "    print(f\"{stock_name}: {stock_return*100}%\")"
   ]
  },
  {
   "cell_type": "code",
   "execution_count": null,
   "id": "a2f19f2f",
   "metadata": {},
   "outputs": [],
   "source": []
  }
 ],
 "metadata": {
  "kernelspec": {
   "display_name": "Python 3 (ipykernel)",
   "language": "python",
   "name": "python3"
  },
  "language_info": {
   "codemirror_mode": {
    "name": "ipython",
    "version": 3
   },
   "file_extension": ".py",
   "mimetype": "text/x-python",
   "name": "python",
   "nbconvert_exporter": "python",
   "pygments_lexer": "ipython3",
   "version": "3.10.9"
  }
 },
 "nbformat": 4,
 "nbformat_minor": 5
}
